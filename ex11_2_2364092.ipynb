{
  "nbformat": 4,
  "nbformat_minor": 0,
  "metadata": {
    "colab": {
      "provenance": []
    },
    "kernelspec": {
      "name": "python3",
      "display_name": "Python 3"
    },
    "language_info": {
      "name": "python"
    }
  },
  "cells": [
    {
      "cell_type": "code",
      "execution_count": 4,
      "metadata": {
        "colab": {
          "base_uri": "https://localhost:8080/"
        },
        "id": "J1AweugnVgS2",
        "outputId": "6670e85a-113c-4702-fca4-9d09ffe1607e"
      },
      "outputs": [
        {
          "output_type": "stream",
          "name": "stdout",
          "text": [
            "探索する登録番号は？ 10 \n",
            "10 香川真司 FW_1989/03/17_172cm_63kg_マンチェスターＵ\n",
            "探索する登録番号は？ 4\n",
            "4 本田圭佑 MF_1986/06/13_182cm_74kg_ＡＣミラン\n",
            "探索する登録番号は？ 100\n",
            "該当する選手はいません\n",
            "探索する登録番号は？ 0\n",
            "プログラムを終了します\n"
          ]
        }
      ],
      "source": [
        "class Player:\n",
        "    def __init__(self, number, name, profile):\n",
        "        self.number = number\n",
        "        self.name = name\n",
        "        self.profile = profile\n",
        "\n",
        "def senkeilist(filename):\n",
        "    players = []\n",
        "    with open(filename, 'r', encoding='utf-8') as f:\n",
        "        lines = f.readlines()\n",
        "        for line in lines:\n",
        "            data = line.split()\n",
        "            player = Player(int(data[0]), data[1], ' '.join(data[2:]))\n",
        "            players.insert(0, player)\n",
        "    return players\n",
        "\n",
        "def search(players, number):\n",
        "    for player in players:\n",
        "        if player.number == number:\n",
        "            return player\n",
        "    return None\n",
        "\n",
        "def main():\n",
        "    players = senkeilist(\"Zac_Japan.txt\")\n",
        "\n",
        "    while True:\n",
        "        number = int(input(\"探索する登録番号は？ \"))\n",
        "        if number == 0:\n",
        "            print(\"プログラムを終了します\")\n",
        "            break\n",
        "\n",
        "        player = search(players, number)\n",
        "        if player is None:\n",
        "            print(\"該当する選手はいません\")\n",
        "        else:\n",
        "            print(f\"{player.number} {player.name} {player.profile}\")\n",
        "\n",
        "main()\n"
      ]
    }
  ]
}