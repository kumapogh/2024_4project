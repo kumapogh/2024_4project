{
  "nbformat": 4,
  "nbformat_minor": 0,
  "metadata": {
    "colab": {
      "provenance": []
    },
    "kernelspec": {
      "name": "python3",
      "display_name": "Python 3"
    },
    "language_info": {
      "name": "python"
    }
  },
  "cells": [
    {
      "cell_type": "code",
      "source": [
        " def fact(n:int)->int:\n",
        "  fact=1\n",
        "  if n<0:\n",
        "    print(\"エラー:nの値が負です!!\")\n",
        "  else:\n",
        "    while n > 1:\n",
        "     fact = fact * n\n",
        "     n = n - 1\n",
        "    return fact\n",
        "\n",
        " fact(10)"
      ],
      "metadata": {
        "colab": {
          "base_uri": "https://localhost:8080/"
        },
        "id": "WdynJAo3d2_C",
        "outputId": "e9472bfc-9582-475b-9073-5dc898910ee5"
      },
      "execution_count": 7,
      "outputs": [
        {
          "output_type": "execute_result",
          "data": {
            "text/plain": [
              "3628800"
            ]
          },
          "metadata": {},
          "execution_count": 7
        }
      ]
    },
    {
      "cell_type": "code",
      "source": [
        " fact(0)"
      ],
      "metadata": {
        "id": "J06h_RsdrCf5",
        "colab": {
          "base_uri": "https://localhost:8080/"
        },
        "outputId": "06416778-5779-4af7-a402-45a3f52fae0b"
      },
      "execution_count": 8,
      "outputs": [
        {
          "output_type": "execute_result",
          "data": {
            "text/plain": [
              "1"
            ]
          },
          "metadata": {},
          "execution_count": 8
        }
      ]
    },
    {
      "cell_type": "code",
      "source": [
        " fact(-3)"
      ],
      "metadata": {
        "colab": {
          "base_uri": "https://localhost:8080/"
        },
        "id": "pu2eyc3vkb1k",
        "outputId": "2f453798-becd-42b2-e5f5-0dafd2486ab6"
      },
      "execution_count": 9,
      "outputs": [
        {
          "output_type": "stream",
          "name": "stdout",
          "text": [
            "エラー:nの値が負です!!\n"
          ]
        }
      ]
    }
  ]
}