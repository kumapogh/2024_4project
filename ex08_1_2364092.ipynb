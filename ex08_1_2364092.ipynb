{
  "nbformat": 4,
  "nbformat_minor": 0,
  "metadata": {
    "colab": {
      "provenance": []
    },
    "kernelspec": {
      "name": "python3",
      "display_name": "Python 3"
    },
    "language_info": {
      "name": "python"
    }
  },
  "cells": [
    {
      "cell_type": "code",
      "execution_count": null,
      "metadata": {
        "id": "wJCMYx_9wnQc",
        "colab": {
          "base_uri": "https://localhost:8080/"
        },
        "outputId": "53f5d621-e6fd-4f12-ab35-4140b289a955"
      },
      "outputs": [
        {
          "output_type": "stream",
          "name": "stdout",
          "text": [
            "kの値を入力してください5\n",
            "nの値を入力してください7\n",
            "21\n",
            "kの値を入力してください0\n",
            "nの値を入力してください789\n",
            "0<k<nではありません\n",
            "kの値を入力してください8\n",
            "nの値を入力してください8\n",
            "0<k<nではありません\n"
          ]
        }
      ],
      "source": [
        "def main():\n",
        " k = int(input(\"kの値を入力してください\"))\n",
        " n = int(input(\"nの値を入力してください\"))\n",
        " if 0 >= k or k>=n:\n",
        "  print(\"0<k<nではありません\")\n",
        " else:\n",
        "  a = f(n,k)\n",
        "  print(a)\n",
        "\n",
        "def f(n,k):\n",
        "  if k == 0:\n",
        "   a = 1\n",
        "   return a\n",
        "  elif k ==n:\n",
        "   a =1\n",
        "   return a\n",
        "  else:\n",
        "   return f(n-1,k-1)+f(n-1,k)\n",
        "\n",
        "main()#0 < k < n の場合.\n",
        "main()#k=0\n",
        "main()#k=n\n",
        "main()#k<0"
      ]
    }
  ]
}