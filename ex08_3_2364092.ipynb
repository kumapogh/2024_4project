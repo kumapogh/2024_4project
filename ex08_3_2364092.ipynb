{
  "nbformat": 4,
  "nbformat_minor": 0,
  "metadata": {
    "colab": {
      "provenance": []
    },
    "kernelspec": {
      "name": "python3",
      "display_name": "Python 3"
    },
    "language_info": {
      "name": "python"
    }
  },
  "cells": [
    {
      "cell_type": "code",
      "execution_count": null,
      "metadata": {
        "colab": {
          "base_uri": "https://localhost:8080/"
        },
        "id": "5qGWBMJYQczB",
        "outputId": "c964c6ff-d7ac-427c-f027-740bf475b843"
      },
      "outputs": [
        {
          "output_type": "stream",
          "name": "stdout",
          "text": [
            "整数nを代入してください\n",
            "n:5\n",
            "5!=\n",
            "再帰:120\n",
            "ループ:120\n"
          ]
        }
      ],
      "source": [
        "def main():\n",
        " print(\"整数nを代入してください\")\n",
        " n = int(input(\"n:\"))\n",
        " print(str(n)+\"!=\")\n",
        " print(\"再帰:\"+str(saiki(n)))\n",
        " loop(n)\n",
        "\n",
        "def loop(n):\n",
        "  a = 1\n",
        "  for i in range(1,n+1):\n",
        "   a *= i\n",
        "  print(\"ループ:\"+str(a))\n",
        "\n",
        "def saiki(n):\n",
        "  if n == 0:\n",
        "    return 1\n",
        "  else:\n",
        "    return n*saiki(n-1)\n",
        "\n",
        "\n",
        "main()"
      ]
    }
  ]
}