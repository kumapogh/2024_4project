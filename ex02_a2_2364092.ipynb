{
  "nbformat": 4,
  "nbformat_minor": 0,
  "metadata": {
    "colab": {
      "provenance": []
    },
    "kernelspec": {
      "name": "python3",
      "display_name": "Python 3"
    },
    "language_info": {
      "name": "python"
    }
  },
  "cells": [
    {
      "cell_type": "code",
      "execution_count": 7,
      "metadata": {
        "id": "fdTNlhCSN5xA",
        "colab": {
          "base_uri": "https://localhost:8080/"
        },
        "outputId": "3d2858c9-9aa4-4b87-92ba-32ce8ddad22d"
      },
      "outputs": [
        {
          "output_type": "stream",
          "name": "stdout",
          "text": [
            "二進数に直したい自然数を入力してください8\n",
            "1000\n"
          ]
        }
      ],
      "source": [
        "x = int(input('二進数に直したい自然数を入力してください'))\n",
        "list = []\n",
        "while x>0:\n",
        "   list.append( x % 2)\n",
        "   x = x // 2\n",
        "list.reverse()\n",
        "L = [str(a) for a in list]\n",
        "L = \"\".join(L)\n",
        "print(L)"
      ]
    }
  ]
}