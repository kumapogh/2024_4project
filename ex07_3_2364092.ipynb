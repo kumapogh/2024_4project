{
  "nbformat": 4,
  "nbformat_minor": 0,
  "metadata": {
    "colab": {
      "provenance": []
    },
    "kernelspec": {
      "name": "python3",
      "display_name": "Python 3"
    },
    "language_info": {
      "name": "python"
    }
  },
  "cells": [
    {
      "cell_type": "code",
      "execution_count": 11,
      "metadata": {
        "colab": {
          "base_uri": "https://localhost:8080/"
        },
        "id": "0fhazDfYyu9E",
        "outputId": "883e74a1-f719-4198-f0a1-5d84ba106e0a"
      },
      "outputs": [
        {
          "output_type": "stream",
          "name": "stdout",
          "text": [
            "入力ファイル名：data_8.csv\n",
            "出力ファイル名：outputno73_8.txt\n"
          ]
        }
      ],
      "source": [
        "import csv\n",
        "\n",
        "class Item:\n",
        "  def __init__ (self, number:int, name:str, score:int):\n",
        "   self.number = number\n",
        "   self.name = name\n",
        "   self.score = score\n",
        "\n",
        "def aditem(item_list,number:int,name:str,score:int):\n",
        "  item_list.append(Item(number,name,score))\n",
        "\n",
        "def csvreader(filename:str, item_list):\n",
        "  with open(filename,'r') as f:\n",
        "    csvr = csv.reader(f)\n",
        "    next(csvr)\n",
        "    for row in csvr:\n",
        "      number = int(row[0])\n",
        "      name = str(row[1])\n",
        "      score = int(row[2])\n",
        "      aditem(item_list, number, name, score)\n",
        "\n",
        "def outout(item_list,newfile):\n",
        "  alist = quicksort(item_list,0, len(item_list)-1)\n",
        "  f = open(newfile,\"w\")\n",
        "  for item in alist:\n",
        "    f.write(f\"{item.number:4},{item.name:16},{item.score}\\n\")\n",
        "  print(\"入力ファイル名：\"+str(filename))\n",
        "  print(\"出力ファイル名：\"+str(newfile))\n",
        "\n",
        "def quicksort(a:list, left:int,right:int):\n",
        "    if left < right:\n",
        "        i, j = left, right\n",
        "        x = a[(left + right) // 2].score\n",
        "        y = a[(left + right) // 2].number\n",
        "        while True:\n",
        "            while(a[i].score < x or (a[i].score == x and a[i].number < y)):\n",
        "                i += 1\n",
        "            while(x < a[j].score or (a[j].score == x and a[j].number > y)):\n",
        "                j -= 1\n",
        "            if (i <= j):\n",
        "                if i < j:\n",
        "                    a[i], a[j] = a[j], a[i]\n",
        "                i += 1\n",
        "                j -= 1\n",
        "            if i > j:\n",
        "                break\n",
        "        if left < j:\n",
        "            quicksort(a, left, j)\n",
        "        if i < right:\n",
        "            quicksort(a , i, right)\n",
        "        return a\n",
        "\n",
        "item_list = []\n",
        "filename = 'data_8.csv'\n",
        "csvreader(filename, item_list)\n",
        "outout(item_list,\"outputno73_8.txt\")"
      ]
    },
    {
      "cell_type": "code",
      "source": [
        "item_list = []\n",
        "filename = 'data_288.csv'\n",
        "csvreader(filename, item_list)\n",
        "outout(item_list,\"outputno73_288.txt\")"
      ],
      "metadata": {
        "colab": {
          "base_uri": "https://localhost:8080/"
        },
        "id": "tizxw1TY31T4",
        "outputId": "29f664df-93d8-43c4-8d7a-425a917b7827"
      },
      "execution_count": 12,
      "outputs": [
        {
          "output_type": "stream",
          "name": "stdout",
          "text": [
            "入力ファイル名：data_288.csv\n",
            "出力ファイル名：outputno73_288.txt\n"
          ]
        }
      ]
    },
    {
      "cell_type": "code",
      "source": [
        "item_list = []\n",
        "filename = 'data_2240.csv'\n",
        "csvreader(filename, item_list)\n",
        "outout(item_list,\"outputno73_2240.txt\")"
      ],
      "metadata": {
        "colab": {
          "base_uri": "https://localhost:8080/"
        },
        "id": "6B_Gh46a31tM",
        "outputId": "16bb3568-2596-491d-b2c8-af531c534e06"
      },
      "execution_count": 13,
      "outputs": [
        {
          "output_type": "stream",
          "name": "stdout",
          "text": [
            "入力ファイル名：data_2240.csv\n",
            "出力ファイル名：outputno73_2240.txt\n"
          ]
        }
      ]
    }
  ]
}