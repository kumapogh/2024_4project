{
  "nbformat": 4,
  "nbformat_minor": 0,
  "metadata": {
    "colab": {
      "provenance": []
    },
    "kernelspec": {
      "name": "python3",
      "display_name": "Python 3"
    },
    "language_info": {
      "name": "python"
    }
  },
  "cells": [
    {
      "cell_type": "code",
      "execution_count": 1,
      "metadata": {
        "id": "7nXvsuZq3mnx"
      },
      "outputs": [],
      "source": [
        "f = open(\"sample1.py\",\"w\")\n",
        "f.write(\"\"\"a = 3\n",
        "b = 2\n",
        "# この行は空行\n",
        "x = a / b\n",
        "print( \"a / b == {:f}\".format( x ) )\n",
        "# {:f}はformatメソッドの引数の値を浮動小数点数として解釈する\"\"\")\n",
        "f.close()"
      ]
    },
    {
      "cell_type": "code",
      "source": [
        "f = open(\"sample2.py\",\"w\")\n",
        "f.write(\"\"\"c = 3.0\n",
        "d = 0.02e2　　# 指数表示 0.02×( 10 の 2 乗 )\n",
        "# この行は空行\n",
        "print(\"c={:f}, d={:f}\".format(c,d))\"\"\")\n",
        "f.close()"
      ],
      "metadata": {
        "id": "MMwmennN4Dtm"
      },
      "execution_count": 2,
      "outputs": []
    },
    {
      "cell_type": "code",
      "source": [
        "def main():\n",
        "  File = input(\"ファイル名を入力してください：\")\n",
        "  print(\"コメント部分削除前のファイルの内容:\")\n",
        "  f = open(str(File),\"r\")\n",
        "  text = f.read()\n",
        "  f.close()\n",
        "  print(text)\n",
        "  print(\"   \")\n",
        "  print(\"削除した結果:\")\n",
        "  Filedel=File\n",
        "  fdel = open(str(Filedel), \"r\")\n",
        "  lines = fdel.readlines()\n",
        "  fdel.close()\n",
        "  for i, line in enumerate(lines):\n",
        "    target = \"#\"\n",
        "    idx = line.find(target)\n",
        "    r = line[idx:]\n",
        "    print(r)\n",
        "\n",
        "main()\n",
        "main()"
      ],
      "metadata": {
        "colab": {
          "base_uri": "https://localhost:8080/"
        },
        "id": "XK3MR0lq4GuS",
        "outputId": "bcaf15e0-9449-423a-d740-e023f4f45bb7"
      },
      "execution_count": 4,
      "outputs": [
        {
          "output_type": "stream",
          "name": "stdout",
          "text": [
            "ファイル名を入力してください：sample1.py\n",
            "コメント部分削除前のファイルの内容:\n",
            "a = 3\n",
            "b = 2\n",
            "# この行は空行\n",
            "x = a / b\n",
            "print( \"a / b == {:f}\".format( x ) )\n",
            "# {:f}はformatメソッドの引数の値を浮動小数点数として解釈する\n",
            "   \n",
            "削除した結果:\n",
            "\n",
            "\n",
            "\n",
            "\n",
            "# この行は空行\n",
            "\n",
            "\n",
            "\n",
            "\n",
            "\n",
            "# {:f}はformatメソッドの引数の値を浮動小数点数として解釈する\n",
            "ファイル名を入力してください：sample2.py\n",
            "コメント部分削除前のファイルの内容:\n",
            "c = 3.0\n",
            "d = 0.02e2　　# 指数表示 0.02×( 10 の 2 乗 )\n",
            "# この行は空行\n",
            "print(\"c={:f}, d={:f}\".format(c,d))\n",
            "   \n",
            "削除した結果:\n",
            "\n",
            "\n",
            "# 指数表示 0.02×( 10 の 2 乗 )\n",
            "\n",
            "# この行は空行\n",
            "\n",
            ")\n"
          ]
        }
      ]
    }
  ]
}