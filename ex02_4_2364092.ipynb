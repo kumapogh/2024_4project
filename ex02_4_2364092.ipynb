{
  "nbformat": 4,
  "nbformat_minor": 0,
  "metadata": {
    "colab": {
      "provenance": []
    },
    "kernelspec": {
      "name": "python3",
      "display_name": "Python 3"
    },
    "language_info": {
      "name": "python"
    }
  },
  "cells": [
    {
      "cell_type": "code",
      "execution_count": 11,
      "metadata": {
        "id": "8rdK9lIthJva",
        "colab": {
          "base_uri": "https://localhost:8080/"
        },
        "outputId": "feb91323-09a6-44a7-bcf9-b06219fde111"
      },
      "outputs": [
        {
          "output_type": "stream",
          "name": "stdout",
          "text": [
            "身長を入力してください:1.8\n",
            "体重を入力してください50\n",
            "男性なら１を女性なら２を男女共用の場合は１，２以外を入力してください1\n",
            "標準体重は69.66000000000001です\n",
            "肥満度は-28.22279643985072です\n",
            "痩せすぎ\n"
          ]
        }
      ],
      "source": [
        "h = float( input (\"身長を入力してください:\"))\n",
        "w = float( input (\"体重を入力してください\"))\n",
        "s = int( input(\"男性なら１を女性なら２を男女共用の場合は１，２以外を入力してください\"))\n",
        "if s==1: avBMI = 22\n",
        "if s==2: avBMI = 21\n",
        "else : avBMI = 21.5\n",
        "avw = h * h * avBMI\n",
        "himan = w /avw - 1\n",
        "himan *= 100\n",
        "print(f'標準体重は{avw}です')\n",
        "print(f'肥満度は{himan}です')\n",
        "if himan >= 10 : print(\"太りすぎ\")\n",
        "elif himan <= -10 : print(\"痩せすぎ\")\n",
        "else : print(\"標準\")"
      ]
    },
    {
      "cell_type": "code",
      "source": [
        "h = float( input (\"身長を入力してください:\"))\n",
        "w = float( input (\"体重を入力してください\"))\n",
        "s = int( input(\"男性なら１を女性なら２を男女共用の場合は１，２以外を入力してください\"))\n",
        "if s==1: avBMI = 22\n",
        "if s==2: avBMI = 21\n",
        "else : avBMI = 21.5\n",
        "avw = h * h * avBMI\n",
        "himan = w /avw - 1\n",
        "himan *= 100\n",
        "print(f'標準体重は{avw}です')\n",
        "print(f'肥満度は{himan}です')\n",
        "if himan >= 10 : print(\"太りすぎ\")\n",
        "elif himan <= -10 : print(\"痩せすぎ\")\n",
        "else : print(\"標準\")"
      ],
      "metadata": {
        "colab": {
          "base_uri": "https://localhost:8080/"
        },
        "id": "wXQKSCXlGUwP",
        "outputId": "f9ac78f7-fbec-4879-8634-c193b98c1c60"
      },
      "execution_count": 13,
      "outputs": [
        {
          "output_type": "stream",
          "name": "stdout",
          "text": [
            "身長を入力してください:1.6\n",
            "体重を入力してください60\n",
            "男性なら１を女性なら２を男女共用の場合は１，２以外を入力してください1\n",
            "標準体重は55.04000000000001です\n",
            "肥満度は9.011627906976717です\n",
            "標準\n"
          ]
        }
      ]
    },
    {
      "cell_type": "code",
      "source": [
        "h = float( input (\"身長を入力してください:\"))\n",
        "w = float( input (\"体重を入力してください\"))\n",
        "s = int( input(\"男性なら１を女性なら２を男女共用の場合は１，２以外を入力してください\"))\n",
        "if s==1: avBMI = 22\n",
        "if s==2: avBMI = 21\n",
        "else : avBMI = 21.5\n",
        "avw = h * h * avBMI\n",
        "himan = w /avw - 1\n",
        "himan *= 100\n",
        "print(f'標準体重は{avw}です')\n",
        "print(f'肥満度は{himan}です')\n",
        "if himan >= 10 : print(\"太りすぎ\")\n",
        "elif himan <= -10 : print(\"痩せすぎ\")\n",
        "else : print(\"標準\")"
      ],
      "metadata": {
        "colab": {
          "base_uri": "https://localhost:8080/"
        },
        "id": "0_E0ebcyGZzq",
        "outputId": "858d0018-1369-448d-fca8-1715283c42da"
      },
      "execution_count": 14,
      "outputs": [
        {
          "output_type": "stream",
          "name": "stdout",
          "text": [
            "身長を入力してください:1.5\n",
            "体重を入力してください90\n",
            "男性なら１を女性なら２を男女共用の場合は１，２以外を入力してください1\n",
            "標準体重は48.375です\n",
            "肥満度は86.04651162790698です\n",
            "太りすぎ\n"
          ]
        }
      ]
    },
    {
      "cell_type": "code",
      "source": [
        "h = float( input (\"身長を入力してください:\"))\n",
        "w = float( input (\"体重を入力してください\"))\n",
        "s = int( input(\"男性なら１を女性なら２を男女共用の場合は１，２以外を入力してください\"))\n",
        "if s==1: avBMI = 22\n",
        "if s==2: avBMI = 21\n",
        "else : avBMI = 21.5\n",
        "avw = h * h * avBMI\n",
        "himan = w /avw - 1\n",
        "himan *= 100\n",
        "print(f'標準体重は{avw}です')\n",
        "print(f'肥満度は{himan}です')\n",
        "if himan >= 10 : print(\"太りすぎ\")\n",
        "elif himan <= -10 : print(\"痩せすぎ\")\n",
        "else : print(\"標準\")"
      ],
      "metadata": {
        "colab": {
          "base_uri": "https://localhost:8080/"
        },
        "id": "UM3dMVc-GfQf",
        "outputId": "f7159af8-c7db-4a3b-e056-b031e2393078"
      },
      "execution_count": 15,
      "outputs": [
        {
          "output_type": "stream",
          "name": "stdout",
          "text": [
            "身長を入力してください:1.7\n",
            "体重を入力してください40\n",
            "男性なら１を女性なら２を男女共用の場合は１，２以外を入力してください2\n",
            "標準体重は60.68999999999999です\n",
            "肥満度は-34.091283572252415です\n",
            "痩せすぎ\n"
          ]
        }
      ]
    },
    {
      "cell_type": "code",
      "source": [
        "h = float( input (\"身長を入力してください:\"))\n",
        "w = float( input (\"体重を入力してください\"))\n",
        "s = int( input(\"男性なら１を女性なら２を男女共用の場合は１，２以外を入力してください\"))\n",
        "if s==1: avBMI = 22\n",
        "if s==2: avBMI = 21\n",
        "else : avBMI = 21.5\n",
        "avw = h * h * avBMI\n",
        "himan = w /avw - 1\n",
        "himan *= 100\n",
        "print(f'標準体重は{avw}です')\n",
        "print(f'肥満度は{himan}です')\n",
        "if himan >= 10 : print(\"太りすぎ\")\n",
        "elif himan <= -10 : print(\"痩せすぎ\")\n",
        "else : print(\"標準\")"
      ],
      "metadata": {
        "colab": {
          "base_uri": "https://localhost:8080/"
        },
        "id": "YHALnJiBGkOT",
        "outputId": "5722aeab-2d41-41e5-df0d-b2f8ab27fa57"
      },
      "execution_count": 16,
      "outputs": [
        {
          "output_type": "stream",
          "name": "stdout",
          "text": [
            "身長を入力してください:1.6\n",
            "体重を入力してください55\n",
            "男性なら１を女性なら２を男女共用の場合は１，２以外を入力してください2\n",
            "標準体重は53.76000000000001です\n",
            "肥満度は2.3065476190476053です\n",
            "標準\n"
          ]
        }
      ]
    },
    {
      "cell_type": "code",
      "source": [
        "h = float( input (\"身長を入力してください:\"))\n",
        "w = float( input (\"体重を入力してください\"))\n",
        "s = int( input(\"男性なら１を女性なら２を男女共用の場合は１，２以外を入力してください\"))\n",
        "if s==1: avBMI = 22\n",
        "if s==2: avBMI = 21\n",
        "else : avBMI = 21.5\n",
        "avw = h * h * avBMI\n",
        "himan = w /avw - 1\n",
        "himan *= 100\n",
        "print(f'標準体重は{avw}です')\n",
        "print(f'肥満度は{himan}です')\n",
        "if himan >= 10 : print(\"太りすぎ\")\n",
        "elif himan <= -10 : print(\"痩せすぎ\")\n",
        "else : print(\"標準\")"
      ],
      "metadata": {
        "colab": {
          "base_uri": "https://localhost:8080/"
        },
        "id": "io_zyVNAGoCt",
        "outputId": "3764e853-77b0-4b50-9029-7362366e413c"
      },
      "execution_count": 17,
      "outputs": [
        {
          "output_type": "stream",
          "name": "stdout",
          "text": [
            "身長を入力してください:1.4\n",
            "体重を入力してください90\n",
            "男性なら１を女性なら２を男女共用の場合は１，２以外を入力してください2\n",
            "標準体重は41.16です\n",
            "肥満度は118.65889212827989です\n",
            "太りすぎ\n"
          ]
        }
      ]
    }
  ]
}