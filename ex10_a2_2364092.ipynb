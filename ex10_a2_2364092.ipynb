{
  "nbformat": 4,
  "nbformat_minor": 0,
  "metadata": {
    "colab": {
      "provenance": []
    },
    "kernelspec": {
      "name": "python3",
      "display_name": "Python 3"
    },
    "language_info": {
      "name": "python"
    }
  },
  "cells": [
    {
      "cell_type": "code",
      "source": [
        "def minc(A, B, C, x):\n",
        "    coins = [A, B, C, 1]\n",
        "    coinc = 0\n",
        "    remain = x\n",
        "    for coin in coins:\n",
        "        if remain == 0:\n",
        "            break\n",
        "        numc = remain // coin\n",
        "        coinc += numc\n",
        "        remain -= numc * coin\n",
        "\n",
        "    return coinc\n",
        "\n",
        "A = 100\n",
        "B = 10\n",
        "C = 5\n",
        "x = 127\n",
        "print(\"最小枚数は\"+str(minc(A, B, C, x))+\"枚\")\n",
        "\n",
        "A = 50\n",
        "B = 40\n",
        "C = 7\n",
        "x = 127\n",
        "print(\"最小枚数は\"+str(minc(A, B, C, x))+\"枚\")\n"
      ],
      "metadata": {
        "colab": {
          "base_uri": "https://localhost:8080/"
        },
        "id": "toNqdFp7B5D1",
        "outputId": "9b576f4f-09ce-4e6c-aa0d-88fa3def021f"
      },
      "execution_count": 6,
      "outputs": [
        {
          "output_type": "stream",
          "name": "stdout",
          "text": [
            "最小枚数は6枚\n",
            "最小枚数は11枚\n"
          ]
        }
      ]
    }
  ]
}