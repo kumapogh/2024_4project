{
  "nbformat": 4,
  "nbformat_minor": 0,
  "metadata": {
    "colab": {
      "provenance": []
    },
    "kernelspec": {
      "name": "python3",
      "display_name": "Python 3"
    },
    "language_info": {
      "name": "python"
    }
  },
  "cells": [
    {
      "cell_type": "code",
      "execution_count": 15,
      "metadata": {
        "colab": {
          "base_uri": "https://localhost:8080/"
        },
        "id": "szIciLU_hmD2",
        "outputId": "03eb9667-af00-4f66-e7c4-8812894ba561"
      },
      "outputs": [
        {
          "output_type": "stream",
          "name": "stdout",
          "text": [
            "0～9の任意の整数を入力してください\n",
            "4\n",
            "2\n",
            "3\n",
            "3\n",
            "3\n",
            "1\n",
            "1\n",
            "7\n",
            "8\n",
            "9\n",
            "0\n",
            "0\n",
            "0\n",
            "\u0004\n",
            "0の個数は3\n",
            "1の個数は2\n",
            "2の個数は1\n",
            "3の個数は3\n",
            "4の個数は1\n",
            "5の個数は0\n",
            "6の個数は0\n",
            "7の個数は1\n",
            "8の個数は1\n",
            "9の個数は1\n"
          ]
        }
      ],
      "source": [
        "def count():\n",
        "  c = [0,0,0,0,0,0,0,0,0,0]\n",
        "  print(\"0～9の任意の整数を入力してください\")\n",
        "  while True:\n",
        "      try:\n",
        "          a = input(\"\")\n",
        "          for i in range(0,9):\n",
        "            i == a\n",
        "            c[int(a)] += 1\n",
        "      except EOFError:\n",
        "          break\n",
        "\n",
        "  for i in range(0,10):\n",
        "    print(str(i) + \"の個数は\" + str(c[i]//9))\n",
        "\n",
        "\n",
        "count()"
      ]
    }
  ]
}