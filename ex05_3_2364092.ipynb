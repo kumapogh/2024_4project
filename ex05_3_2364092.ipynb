{
  "cells": [
    {
      "cell_type": "code",
      "execution_count": 4,
      "metadata": {
        "colab": {
          "base_uri": "https://localhost:8080/"
        },
        "id": "ALpPaevxnxxq",
        "outputId": "33288465-7a7a-43bd-f41b-c991fdaf7a69"
      },
      "outputs": [
        {
          "name": "stdout",
          "output_type": "stream",
          "text": [
            "元の行列を入力してください\n",
            "12.0 13.0\n",
            "12.0 13.0\n",
            "逆行列は存在しない\n"
          ]
        }
      ],
      "source": [
        "A = [[0,0],[0,0]]\n",
        "revA = [[0,0],[0,0]]\n",
        "detA = 0\n",
        "def rever(A,revA):\n",
        "  detA = float(A[0][0])*float(A[1][1])-float(A[0][1])*float(A[1][0])\n",
        "  if detA != 0:\n",
        "    revA = [[(1/detA)*A[1][1],-(1/detA)*A[0][1]],[-(1/detA)*A[1][0],(1/detA)*A[0][0]]]\n",
        "    outout(revA)\n",
        "  return detA\n",
        "\n",
        "def inin():\n",
        " print(\"元の行列を入力してください\")\n",
        " A[0][0] = float(input(\"A[0][0]:\"))\n",
        " A[0][1] = float(input(\"A[0][1]:\"))\n",
        " A[1][0] = float(input(\"A[1][0]:\"))\n",
        " A[1][1] = float(input(\"A[1][1]:\"))\n",
        " print(A[0][0],A[0][1])\n",
        " print(A[1][0],A[1][1])\n",
        "\n",
        "def outout(revA):\n",
        "  print(\"逆行列は以下の通り\")\n",
        "  print(revA[0][0],revA[0][1])\n",
        "  print(revA[1][0],revA[1][1])\n",
        "\n",
        "def main():\n",
        "  inin()\n",
        "  if  rever(A,revA) == 0:\n",
        "    print(\"逆行列は存在しない\")\n",
        "\n",
        "\n",
        "main()"
      ]
    },
    {
      "cell_type": "code",
      "execution_count": 20,
      "metadata": {
        "colab": {
          "base_uri": "https://localhost:8080/"
        },
        "id": "Rcwo6N8qcx38",
        "outputId": "fdafcad5-f079-494d-e3f4-4dbd3ddd3a5f"
      },
      "outputs": [
        {
          "name": "stdout",
          "output_type": "stream",
          "text": [
            "元の行列を入力してください\n",
            "A[0][0]:2\n",
            "A[0][1]:3\n",
            "A[1][0]:4\n",
            "A[1][1]:5\n",
            "2.0 3.0\n",
            "4.0 5.0\n",
            "逆行列は以下の通り\n",
            "-2.5 1.5\n",
            "2.0 -1.0\n"
          ]
        }
      ],
      "source": [
        "main()"
      ]
    },
    {
      "cell_type": "code",
      "execution_count": 3,
      "metadata": {
        "id": "JWMnFQxAdO7I"
      },
      "outputs": [
        {
          "ename": "NameError",
          "evalue": "name 'main' is not defined",
          "output_type": "error",
          "traceback": [
            "\u001b[1;31m---------------------------------------------------------------------------\u001b[0m",
            "\u001b[1;31mNameError\u001b[0m                                 Traceback (most recent call last)",
            "Cell \u001b[1;32mIn[3], line 1\u001b[0m\n\u001b[1;32m----> 1\u001b[0m \u001b[43mmain\u001b[49m()\n",
            "\u001b[1;31mNameError\u001b[0m: name 'main' is not defined"
          ]
        }
      ],
      "source": [
        "main()\n"
      ]
    }
  ],
  "metadata": {
    "colab": {
      "provenance": []
    },
    "kernelspec": {
      "display_name": "Python 3",
      "name": "python3"
    },
    "language_info": {
      "codemirror_mode": {
        "name": "ipython",
        "version": 3
      },
      "file_extension": ".py",
      "mimetype": "text/x-python",
      "name": "python",
      "nbconvert_exporter": "python",
      "pygments_lexer": "ipython3",
      "version": "3.12.3"
    }
  },
  "nbformat": 4,
  "nbformat_minor": 0
}
