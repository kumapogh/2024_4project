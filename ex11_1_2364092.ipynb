{
  "nbformat": 4,
  "nbformat_minor": 0,
  "metadata": {
    "colab": {
      "provenance": []
    },
    "kernelspec": {
      "name": "python3",
      "display_name": "Python 3"
    },
    "language_info": {
      "name": "python"
    }
  },
  "cells": [
    {
      "cell_type": "code",
      "execution_count": 3,
      "metadata": {
        "colab": {
          "base_uri": "https://localhost:8080/"
        },
        "id": "H79Rv_fKofg9",
        "outputId": "dc185855-0532-4bd6-9def-d359d662a68f"
      },
      "outputs": [
        {
          "output_type": "stream",
          "name": "stdout",
          "text": [
            "22 吉田麻也 DF_1988/08/24_189cm_81kg_サウサンプトン\n",
            "15 今野泰幸 DF_1983/01/25_178cm_73kg_ガンバ大阪\n",
            " 2 内田篤人 DF_1988/03/27_176cm_67kg_シャルケ\n",
            " 4 本田圭佑 MF_1986/06/13_182cm_74kg_ＡＣミラン\n",
            " 1 川島永嗣 GK_1983/03/20_185cm_82kg_スタンダール\n",
            " 9 岡崎慎司 FW_1986/04/16_174cm_76kg_マインツ\n",
            " 7 遠藤保仁 MF_1980/01/28_178cm_75kg_ガンバ大阪\n",
            "13 大久保嘉人 FW_1982/06/09_170cm_73kg_川崎Ｆ\n",
            " 5 長友佑都 DF_1986/09/12_170cm_68kg_インテル\n",
            "17 長谷部誠 MF_1984/01/18_180cm_72kg_ニュルンベルク\n",
            "10 香川真司 FW_1989/03/17_172cm_63kg_マンチェスターＵ\n"
          ]
        }
      ],
      "source": [
        "class Player:\n",
        "  def __init__(self,number,name,profile):\n",
        "      self.number = number\n",
        "      self.name = name\n",
        "      self.profile = profile\n",
        "\n",
        "def senkeilist(filename):\n",
        "    players = []\n",
        "    with open(filename,'r',encoding='utf-8') as f:\n",
        "        lines = f.readlines()\n",
        "        for line in lines:\n",
        "            data = line.split()\n",
        "            player = Player(int(data[0]), data[1], ' '.join(data[2:]))\n",
        "            players.insert(0, player)\n",
        "    return players\n",
        "\n",
        "def outputlist(players):\n",
        "    for player in players:\n",
        "        print(f\"{player.number:2d} {player.name} {player.profile}\")\n",
        "\n",
        "players = senkeilist(\"Zac_Japan.txt\")\n",
        "outputlist(players)\n"
      ]
    }
  ]
}