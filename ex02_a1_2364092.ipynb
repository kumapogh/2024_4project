{
  "nbformat": 4,
  "nbformat_minor": 0,
  "metadata": {
    "colab": {
      "provenance": []
    },
    "kernelspec": {
      "name": "python3",
      "display_name": "Python 3"
    },
    "language_info": {
      "name": "python"
    }
  },
  "cells": [
    {
      "cell_type": "code",
      "execution_count": 33,
      "metadata": {
        "colab": {
          "base_uri": "https://localhost:8080/"
        },
        "id": "sKVsyWf6nHv6",
        "outputId": "77b7c2cc-35a1-4a2b-da4d-1ce6165bc7ae"
      },
      "outputs": [
        {
          "output_type": "stream",
          "name": "stdout",
          "text": [
            "10個の数を入力してください9 3 4 5 2 11 9 5 333 22\n",
            "最小値は 2 であります\n",
            "最小値は 333 だよ\n"
          ]
        }
      ],
      "source": [
        "num = input(\"10個の数を入力してください\")\n",
        "numlist = num.split()\n",
        "numlist = [int(number) for number in numlist]\n",
        "for a in range(0,9):\n",
        " for i in range(0,9):\n",
        "   if numlist[i+1]<numlist[i] :\n",
        "     x= numlist[i+1]\n",
        "     numlist[i+1] = numlist[i]\n",
        "     numlist[i] = x\n",
        " a +=1\n",
        "print('最小値は', numlist[0],'であります')\n",
        "print('最小値は',numlist[9],'だよ')"
      ]
    }
  ]
}