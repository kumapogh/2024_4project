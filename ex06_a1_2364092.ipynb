{
  "nbformat": 4,
  "nbformat_minor": 0,
  "metadata": {
    "colab": {
      "provenance": []
    },
    "kernelspec": {
      "name": "python3",
      "display_name": "Python 3"
    },
    "language_info": {
      "name": "python"
    }
  },
  "cells": [
    {
      "cell_type": "code",
      "execution_count": 10,
      "metadata": {
        "colab": {
          "base_uri": "https://localhost:8080/"
        },
        "id": "Pv4CXNvMNGUD",
        "outputId": "62879fbc-a8fc-42d7-e267-28dd4da18dde"
      },
      "outputs": [
        {
          "output_type": "stream",
          "name": "stdout",
          "text": [
            "ファイルの中のデータ数を教えて（8or288or2240)2240\n",
            "比較回数 = 2505441, 入れ換え回数 = 2228\n",
            "出力ファイル名: outputnoad1_2240.txt\n"
          ]
        }
      ],
      "source": [
        "import csv\n",
        "class Item:\n",
        "    def __init__(self,number:int, name: str,score:int,grade:str):\n",
        "        self.number = number\n",
        "        self.name = name\n",
        "        self.score = score\n",
        "        self.grade = grade\n",
        "class ItemList:\n",
        "    def __init__(self):\n",
        "        self.item = []\n",
        "    def aditem(self,number:int,name:str,score:int):\n",
        "      if score==90:\n",
        "        grade = \"S\"\n",
        "      elif score>=80:\n",
        "        grade = \"A\"\n",
        "      elif score>=70:\n",
        "        grade = \"B\"\n",
        "      elif score>=60:\n",
        "        grade = \"C\"\n",
        "      elif score<=59:\n",
        "       grade = \"D\"\n",
        "      self.item.append(Item(number, name, score,grade))\n",
        "    def csvreader(self,filename:str):\n",
        "        with open(filename,'r') as f:\n",
        "            csvr = csv.reader(f)\n",
        "            next(csvr)\n",
        "            for row in csvr:\n",
        "                number = int(row[0])\n",
        "                name = str(row[1])\n",
        "                score = int(row[2])\n",
        "                self.aditem(number,name,score)\n",
        "    def outout(self, newfile:str):\n",
        "       f = open(newfile,'w')\n",
        "       for item in self.item:\n",
        "         f.write(f\"{item.number:4},{item.name:16},{item.score:3},{item.grade}\\n\")\n",
        "    def highsc(self,item,n):\n",
        "        looktime = 0\n",
        "        swich = 0\n",
        "        for i in range(0,n):\n",
        "            a = i\n",
        "            for j in range(i+1,n):\n",
        "                looktime += 1\n",
        "                if item[j].score > item[a].score or(item[j].score == item[a].score and item[j].number<item[a].number):\n",
        "                    a = j\n",
        "            if a!=i:\n",
        "                swich += 1\n",
        "            item[i],item[a] = item[a],item[i]\n",
        "        print(f\"比較回数 = {looktime}, 入れ換え回数 = {swich}\")\n",
        "        return item\n",
        "def main():\n",
        "  item_list = ItemList()\n",
        "  while True:\n",
        "    n = input(\"ファイルの中のデータ数を教えて（8or288or2240)\")\n",
        "    if n  in [\"8\" , \"288\" ,\"2240\"]:\n",
        "     item_list.csvreader(\"data_\"+str(n)+\".csv\")\n",
        "     sorteditem = item_list.highsc(item_list.item, len(item_list.item))\n",
        "     item_list.item = sorteditem\n",
        "     output_filename = \"outputnoad1_\"+str(n)+\".txt\"\n",
        "     print(f\"出力ファイル名: {output_filename}\")\n",
        "     item_list.outout(output_filename)\n",
        "     break\n",
        "    else:\n",
        "     print(\"8or288or2240のデータ数を入力してください\")\n",
        "\n",
        "main()"
      ]
    }
  ]
}