{
  "nbformat": 4,
  "nbformat_minor": 0,
  "metadata": {
    "colab": {
      "provenance": []
    },
    "kernelspec": {
      "name": "python3",
      "display_name": "Python 3"
    },
    "language_info": {
      "name": "python"
    }
  },
  "cells": [
    {
      "cell_type": "code",
      "source": [
        "def keisan(a,b,c,d):\n",
        "  if 10*a+b==3*(10*c+d) and a!=b and c!=d and a!=c and b!=d and a!=d and b!=c:\n",
        "    print(10*a+b,10*c+d)\n",
        "for a in range(1,10):\n",
        "  for b in range(1,10):\n",
        "    for c in range(1,10):\n",
        "      for d in range(1,10):\n",
        "        keisan(a,b,c,d)\n",
        "\n",
        ""
      ],
      "metadata": {
        "colab": {
          "base_uri": "https://localhost:8080/"
        },
        "id": "iCVt6yxZNkdk",
        "outputId": "a2ff3f4d-fbd7-40d8-d416-69e167d68ef7"
      },
      "execution_count": 14,
      "outputs": [
        {
          "output_type": "stream",
          "name": "stdout",
          "text": [
            "36 12\n",
            "48 16\n",
            "54 18\n",
            "57 19\n",
            "63 21\n",
            "69 23\n",
            "78 26\n",
            "81 27\n",
            "87 29\n",
            "96 32\n"
          ]
        }
      ]
    }
  ]
}