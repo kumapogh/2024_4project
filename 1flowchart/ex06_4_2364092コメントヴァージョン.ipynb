{
  "cells": [
    {
      "cell_type": "code",
      "execution_count": null,
      "metadata": {
        "colab": {
          "base_uri": "https://localhost:8080/"
        },
        "id": "Sa5bDT7-YQHi",
        "outputId": "84d74c08-3037-4e8e-f392-616a535df3df"
      },
      "outputs": [
        {
          "name": "stdout",
          "output_type": "stream",
          "text": [
            "ファイルの中のデータ数を教えて（8or288or2240)4\n",
            "8or288or2240のデータ数を入力してください\n",
            "ファイルの中のデータ数を教えて（8or288or2240)8\n",
            "比較回数 = 21, 入れ換え回数 = 4\n",
            "出力ファイル名: outputno2_8.txt\n"
          ]
        }
      ],
      "source": [
        "import csv                          #csvファイルを用いる時は必要\n",
        "class Item:                         #クラスItemの定義\n",
        "    def __init__(self,number:int, name: str,score:int):#クラスの定義、変数指定についての関数\n",
        "        self.number = number                           #学籍番号について\n",
        "        self.name = name                               #名前について\n",
        "        self.score = score                             #スコアについて\n",
        "class ItemList:                     #クラスを用いたリストの作成\n",
        "    def __init__(self):             #クラスの定義についての関数\n",
        "        self.item = []              #クラスの中にitemのリストを作成\n",
        "    def aditem(self,number:int,name:str,score:int):  #上記で作成したリストに内容を加える関数\n",
        "        self.item.append(Item(number, name, score))  #append関数を用いてリストに配列順に値を代入\n",
        "    def csvreader(self,filename:str):                #CSVファイルを読み込むための関数、ファイル名はstr型\n",
        "        with open(filename,'r') as f:                #読み取り専用でファイルを開く\n",
        "            csvr = csv.reader(f)                     #変数csvrにファイル内の内容を読み込む\n",
        "            next(csvr)                               #先頭ラベルをスキップして読み込み\n",
        "            for row in csvr:                         #CSVファイルの行それぞれに対して\n",
        "                number = int(row[0])                 #1列目の内容は学籍番号について\n",
        "                name = str(row[1])                   #2列目の内容は名前について\n",
        "                score = int(row[2])                  #③列目の内容は成績について\n",
        "                self.aditem(number,name,score)       #上記のリストに内容を加える関数の呼び出し\n",
        "    def outout(self, newfile:str):                   #内容を出力するoutout()関数の定義\n",
        "       f = open(newfile,'w')                         #ファイルを並び替えた内容を書き込むファイルの作成\n",
        "       for item in self.item:                        #クラスitemの中身1行ずつについて\n",
        "         f.write(f\"{item.number:4},{item.name:16},{item.score:3}\\n\")#内容をファイルに書き込む\n",
        "    def highsc(self,item,n):                         #スコア順更に学籍番号順に並び替える関数(引数は配列とデータ数)\n",
        "        looktime = 0                                 #比較回数について初期値0\n",
        "        swich = 0                                    #入れ替え回数について初期値0\n",
        "        for i in range(0,n):                         #i（比較する元の番号）を0からデータ数まで繰り返す\n",
        "            a = i                                    #iの値をaに代入\n",
        "            for j in range(i+1,n):                   #j（比較対象の番号）の値をi+1からデータ数まで繰り返す\n",
        "                looktime += 1                        #比較回数は＋1回\n",
        "                if item[j].score > item[a].score or(item[j].score == item[a].score and item[j].number<item[a].number):\n",
        "                    a = j                            #順番を変える必要がある時にはaにjの値を代入\n",
        "            if a!=i:                                 #比較する元の番号と比較対象の番号が異なる時\n",
        "                swich += 1                           #入れ替え回数は＋1回\n",
        "            item[i],item[a] = item[a],item[i]        #順番の入れ替えを行う\n",
        "        print(f\"比較回数 = {looktime}, 入れ換え回数 = {swich}\")#比較回数と入れ替え回数の値を出力\n",
        "        return item                                  #itemに値を返す\n",
        "def main():                                          #main()関数についての定義\n",
        "  item_list = ItemList()                             #変数に上記定義のクラスリストを格納\n",
        "  while True:                                        #ファイル名が正しく入力されるまでのループ\n",
        "    n = input(\"ファイルの中のデータ数を教えて（8or288or2240)\")#ファイル名を聞くときにデータ数のみを入力すればよいようにした\n",
        "    if n  in [\"8\" , \"288\" ,\"2240\"]:                         #ファイルが存在する時\n",
        "     item_list.csvreader(\"data_\"+str(n)+\".csv\")      #入力されたデータ数をもとにファイル名を上記関数に格納\n",
        "     sorteditem = item_list.highsc(item_list.item, len(item_list.item)) #順序を並び替える関数の呼び出し\n",
        "     item_list.item = sorteditem                                        #並び替えたitemについて扱う\n",
        "     output_filename = \"outputno2_\"+str(n)+\".txt\"                       #データを出力するファイルの名前を入力されたデータ数を用いて定義\n",
        "     print(f\"出力ファイル名: {output_filename}\")                         #出力ファイル名の出力\n",
        "     item_list.outout(output_filename)                                  #outout()関数の呼び出し\n",
        "     break                                                              #ファイルが存在するものであったのでループから抜ける\n",
        "    else:                                                               #ファイルが存在しない時\n",
        "     print(\"8or288or2240のデータ数を入力してください\")                    #注意文を出しもう一度ファイル名の入力\n",
        "\n",
        "main()                                                                  #main()の実行"
      ]
    },
    {
      "cell_type": "code",
      "execution_count": 18,
      "metadata": {
        "colab": {
          "base_uri": "https://localhost:8080/"
        },
        "id": "wTBwVmywf4WD",
        "outputId": "4daaf1e8-5142-4fbc-9722-9b33a9be07f9"
      },
      "outputs": [
        {
          "name": "stdout",
          "output_type": "stream",
          "text": [
            "ファイルの中のデータ数を教えて（8or288or2240)288\n",
            "比較回数 = 41041, 入れ換え回数 = 284\n",
            "出力ファイル名: outputno2_288.txt\n"
          ]
        }
      ],
      "source": [
        "main()"
      ]
    },
    {
      "cell_type": "code",
      "execution_count": null,
      "metadata": {
        "colab": {
          "base_uri": "https://localhost:8080/"
        },
        "id": "gSxwYOW5iK-H",
        "outputId": "1ee54fad-f813-4521-81a7-80ff71cecb3d"
      },
      "outputs": [
        {
          "name": "stdout",
          "output_type": "stream",
          "text": [
            "ファイルの中のデータ数を教えて（8or288or2240)2240\n",
            "比較回数 = 2505441, 入れ換え回数 = 2228\n",
            "出力ファイル名: outputno2_2240.txt\n"
          ]
        }
      ],
      "source": [
        "main()"
      ]
    },
    {
      "cell_type": "code",
      "execution_count": null,
      "metadata": {},
      "outputs": [],
      "source": [
        "main()"
      ]
    }
  ],
  "metadata": {
    "colab": {
      "provenance": []
    },
    "kernelspec": {
      "display_name": "Python 3",
      "name": "python3"
    },
    "language_info": {
      "name": "python"
    }
  },
  "nbformat": 4,
  "nbformat_minor": 0
}
