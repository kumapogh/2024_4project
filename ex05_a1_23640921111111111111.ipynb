{
  "cells": [
    {
      "cell_type": "code",
      "execution_count": 1,
      "metadata": {
        "colab": {
          "base_uri": "https://localhost:8080/"
        },
        "id": "ytMU6btdCp2j",
        "outputId": "20ae088b-e56b-435c-fb55-a30d9cfc7a3c"
      },
      "outputs": [
        {
          "ename": "IndentationError",
          "evalue": "unexpected indent (1988338847.py, line 22)",
          "output_type": "error",
          "traceback": [
            "\u001b[1;36m  Cell \u001b[1;32mIn[1], line 22\u001b[1;36m\u001b[0m\n\u001b[1;33m    result += float(vac1[i])*float(vac2[i])\u001b[0m\n\u001b[1;37m    ^\u001b[0m\n\u001b[1;31mIndentationError\u001b[0m\u001b[1;31m:\u001b[0m unexpected indent\n"
          ]
        }
      ],
      "source": [
        "import math\n",
        "vac1 = [0,0,0,0,0,0,0,0,0,0]\n",
        "vac2 = [0,0,0,0,0,0,0,0,0,0]\n",
        "def main():\n",
        "  n = int(input(\"ベクトルの次数n (最大10)=\"))\n",
        "  print(\"ベクトル１の入力\")\n",
        "  for i in range (0,n):\n",
        "   vac1[i] = input(\"\")\n",
        "  print(\"ベクトル2の入力\")\n",
        "  for i in range (0,n):\n",
        "   vac2[i] = input(\"\")\n",
        "   a = math.sqrt(inseki(n,vac1,vac1))\n",
        "   b = math.sqrt(inseki(n,vac2,vac2))\n",
        "  cos = inseki(n,vac1,vac2) / (math.sqrt(inseki(n,vac1,vac1)) * math.sqrt(inseki(n,vac2,vac2)))\n",
        "  acos = math.acos(cos)\n",
        "  print(\"φ＝\"+str(rad(acos)))\n",
        "\n",
        "def inseki(n,vac1,vac2):\n",
        "  result = 0\n",
        "  for i in range (0,n):\n",
        "   result += float(vac1[i])*float(vac2[i])\n",
        "  return result\n",
        "\n",
        "def rad(raj):\n",
        "  deg = raj * 180 / math.pi\n",
        "  return deg\n",
        "\n",
        "main()"
      ]
    }
  ],
  "metadata": {
    "colab": {
      "provenance": []
    },
    "kernelspec": {
      "display_name": "Python 3",
      "name": "python3"
    },
    "language_info": {
      "codemirror_mode": {
        "name": "ipython",
        "version": 3
      },
      "file_extension": ".py",
      "mimetype": "text/x-python",
      "name": "python",
      "nbconvert_exporter": "python",
      "pygments_lexer": "ipython3",
      "version": "3.12.3"
    }
  },
  "nbformat": 4,
  "nbformat_minor": 0
}
