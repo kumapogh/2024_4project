{
  "nbformat": 4,
  "nbformat_minor": 0,
  "metadata": {
    "colab": {
      "provenance": []
    },
    "kernelspec": {
      "name": "python3",
      "display_name": "Python 3"
    },
    "language_info": {
      "name": "python"
    }
  },
  "cells": [
    {
      "cell_type": "code",
      "source": [
        "class Item:\n",
        "    def __init__(self, name, weight):\n",
        "        self.name = name\n",
        "        self.weight = weight\n",
        "items = [Item('A', 7), Item('B', 4), Item('C', 5), Item('D', 6), Item('E', 3)]\n",
        "max_load = 15\n",
        "def try_item(i,dw,ditems):\n",
        "    if dw == max_load:\n",
        "        print(' + '.join(f'{item.name}:{item.weight}t' for item in ditems))\n",
        "        return\n",
        "    if i == len(items) or dw > max_load:\n",
        "        return\n",
        "    try_item(i + 1, dw,ditems)\n",
        "    try_item(i + 1, dw+ items[i].weight, ditems + [items[i]])\n",
        "\n",
        "try_item(0, 0, [])\n"
      ],
      "metadata": {
        "colab": {
          "base_uri": "https://localhost:8080/"
        },
        "id": "SLwCzK9BHkE9",
        "outputId": "2bbfdbe5-ad17-4974-b5cd-2bd3e946896f"
      },
      "execution_count": 8,
      "outputs": [
        {
          "output_type": "stream",
          "name": "stdout",
          "text": [
            "B:4t + C:5t + D:6t\n",
            "A:7t + C:5t + E:3t\n"
          ]
        }
      ]
    }
  ]
}