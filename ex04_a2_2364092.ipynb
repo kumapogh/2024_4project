{
  "nbformat": 4,
  "nbformat_minor": 0,
  "metadata": {
    "colab": {
      "provenance": []
    },
    "kernelspec": {
      "name": "python3",
      "display_name": "Python 3"
    },
    "language_info": {
      "name": "python"
    }
  },
  "cells": [
    {
      "cell_type": "code",
      "execution_count": null,
      "metadata": {
        "id": "Rz2522IC59Lk"
      },
      "outputs": [],
      "source": [
        "f = open(\"sample_1.py\",\"w\")\n",
        "f.write(\"\"\"import sys\n",
        "print ( sys.stdin.read() )\"\"\")\n",
        "f.close()"
      ]
    },
    {
      "cell_type": "code",
      "source": [
        "!cat sample_1.py"
      ],
      "metadata": {
        "colab": {
          "base_uri": "https://localhost:8080/"
        },
        "id": "EwZ-wrAy6S-3",
        "outputId": "bed94fc9-b6ea-4edc-ce1d-57bd34810a35"
      },
      "execution_count": null,
      "outputs": [
        {
          "output_type": "stream",
          "name": "stdout",
          "text": [
            "import sys\n",
            "print ( sys.stdin.read() )"
          ]
        }
      ]
    },
    {
      "cell_type": "code",
      "source": [
        "def main():\n",
        " File =  input(\"ファイル名を入力してください：\")\n",
        " f = open(str(File),\"r\")\n",
        " lines = f.readlines()\n",
        " f.close()\n",
        " sentence = 0\n",
        " word = 0\n",
        " char = 0\n",
        " for i,line in enumerate(lines):\n",
        "  sentence += 1\n",
        "  word += len([character for character in line if character.isalpha()])\n",
        "  char += len(line.split())\n",
        "\n",
        " print(\"行数:\"+str(sentence))\n",
        " print(\"文字数:\"+str(word)+\"バイト\")\n",
        " print(\"単語数:\"+str(char))\n",
        "\n",
        "main()\n"
      ],
      "metadata": {
        "colab": {
          "base_uri": "https://localhost:8080/"
        },
        "id": "e_EafoyD6ZJ_",
        "outputId": "79562bb2-1294-4554-ab43-a90a690f6460"
      },
      "execution_count": null,
      "outputs": [
        {
          "output_type": "stream",
          "name": "stdout",
          "text": [
            "ファイル名を入力してください：sample_1.py\n",
            "行数:2\n",
            "文字数:26バイト\n",
            "単語数:6\n"
          ]
        }
      ]
    }
  ]
}