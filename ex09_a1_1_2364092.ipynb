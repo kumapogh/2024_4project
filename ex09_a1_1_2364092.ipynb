{
  "nbformat": 4,
  "nbformat_minor": 0,
  "metadata": {
    "colab": {
      "provenance": []
    },
    "kernelspec": {
      "name": "python3",
      "display_name": "Python 3"
    },
    "language_info": {
      "name": "python"
    }
  },
  "cells": [
    {
      "cell_type": "code",
      "source": [
        "op = [0]*10\n",
        "for i in range(1, 10):\n",
        "    op[i] = 0\n",
        "while op[9] < 2:\n",
        "    s = 0\n",
        "    n = 0\n",
        "    sign = 1\n",
        "    for i in range(9, 0, -1):\n",
        "        if op[i] == 0:\n",
        "            n = 10 * n + i\n",
        "        else:\n",
        "            s += sign * n\n",
        "            n = i\n",
        "            if op[i] == 1:\n",
        "                sign = -1\n",
        "            else:\n",
        "                sign = 1\n",
        "    s += sign * n\n",
        "    if s == 100:\n",
        "        result = \"\"\n",
        "        for i in range(9, 0, -1):\n",
        "            if op[i] == 1:\n",
        "                result += \"－\"\n",
        "            elif op[i] == 2:\n",
        "                result += \"＋\"\n",
        "            result += str(i)\n",
        "        print(result+\"=100\")\n",
        "    i = 1\n",
        "    op[i] += 1\n",
        "    while i < 9 and op[i] == 3:\n",
        "        op[i] = 0\n",
        "        i += 1\n",
        "        op[i] += 1\n"
      ],
      "metadata": {
        "colab": {
          "base_uri": "https://localhost:8080/"
        },
        "id": "mkUtfLd51Sx8",
        "outputId": "3ff49d55-0ef3-4a38-96e8-a4e82297665e"
      },
      "execution_count": 2,
      "outputs": [
        {
          "output_type": "stream",
          "name": "stdout",
          "text": [
            "98－76＋54＋3＋21=100\n",
            "98－7－6－5－4＋3＋21=100\n",
            "98－7－6＋5＋4＋3＋2＋1=100\n",
            "98－7＋6－5＋4＋3＋2－1=100\n",
            "98－7＋6＋5－4＋3－2＋1=100\n",
            "98－7＋6＋5＋4－3－2－1=100\n",
            "98＋7－6－5＋4＋3－2＋1=100\n",
            "98＋7－6＋5－4－3＋2＋1=100\n",
            "98＋7－6＋5－4＋3－2－1=100\n",
            "98＋7＋6－5－4－3＋2－1=100\n",
            "9－8＋76－5＋4＋3＋21=100\n",
            "9－8＋76＋54－32＋1=100\n",
            "9－8＋7＋65－4＋32－1=100\n",
            "9＋8＋76＋5－4＋3＋2＋1=100\n",
            "9＋8＋76＋5＋4－3＋2－1=100\n",
            "－9－8＋76－5＋43＋2＋1=100\n",
            "－9＋8＋76＋5－4＋3＋21=100\n",
            "－9＋8＋7＋65－4＋32＋1=100\n"
          ]
        }
      ]
    }
  ]
}