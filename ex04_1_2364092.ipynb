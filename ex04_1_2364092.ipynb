{
  "nbformat": 4,
  "nbformat_minor": 0,
  "metadata": {
    "colab": {
      "provenance": []
    },
    "kernelspec": {
      "name": "python3",
      "display_name": "Python 3"
    },
    "language_info": {
      "name": "python"
    }
  },
  "cells": [
    {
      "cell_type": "code",
      "execution_count": 47,
      "metadata": {
        "colab": {
          "base_uri": "https://localhost:8080/"
        },
        "id": "uQRXBpiAhI6P",
        "outputId": "a5e15711-9b97-4737-ae73-3cd01dedbb07"
      },
      "outputs": [
        {
          "output_type": "stream",
          "name": "stdout",
          "text": [
            "文字列を入力してください:\n",
            "Yokohama National University\n",
            "College of Engineering Science\n",
            "Department of Mathematics, Physics, Electrical Engineering and Computer Science\n",
            "\u0004\n",
            "入力れた各行は以下の通り：\n",
            "1 Yokohama National University\n",
            "2 College of Engineering Science\n",
            "3 Department of Mathematics, Physics, Electrical Engineering and Computer Science\n"
          ]
        }
      ],
      "source": [
        "def key_input():\n",
        " print(\"文字列を入力してください:\")\n",
        " while True:\n",
        "  try:\n",
        "    a=input(\"\")\n",
        "    list.append(a)\n",
        "  except EOFError:\n",
        "    break\n",
        "\n",
        "def main():\n",
        "  key_input()\n",
        "  print(\"入力れた各行は以下の通り：\")\n",
        "  for i, line in enumerate(list):\n",
        "    print(\"{:d}\".format(i+1) +\" \"+ line)\n",
        "\n",
        "list=[]\n",
        "main()\n",
        "\n"
      ]
    }
  ]
}