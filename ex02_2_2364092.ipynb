{
  "nbformat": 4,
  "nbformat_minor": 0,
  "metadata": {
    "colab": {
      "provenance": []
    },
    "kernelspec": {
      "name": "python3",
      "display_name": "Python 3"
    },
    "language_info": {
      "name": "python"
    }
  },
  "cells": [
    {
      "cell_type": "code",
      "execution_count": 1,
      "metadata": {
        "colab": {
          "base_uri": "https://localhost:8080/"
        },
        "id": "doJ5rgcvj8ey",
        "outputId": "e2d391df-b41b-4d4e-c14e-4d465e9aeafb"
      },
      "outputs": [
        {
          "output_type": "stream",
          "name": "stdout",
          "text": [
            "九九の掛け算で24になる 2 つの数字の組み合わせは以下の通り\n",
            "3 8\n",
            "4 6\n",
            "6 4\n",
            "8 3\n"
          ]
        }
      ],
      "source": [
        "print(\"九九の掛け算で24になる 2 つの数字の組み合わせは以下の通り\")\n",
        "for i in range(1,9):\n",
        "  if 24%i==0:\n",
        "     j=24//i\n",
        "     if 1<=j<10:print(i,j)"
      ]
    }
  ]
}