{
  "nbformat": 4,
  "nbformat_minor": 0,
  "metadata": {
    "colab": {
      "provenance": []
    },
    "kernelspec": {
      "name": "python3",
      "display_name": "Python 3"
    },
    "language_info": {
      "name": "python"
    }
  },
  "cells": [
    {
      "cell_type": "code",
      "source": [
        "from0 = [1, 2, -1]      #0地点から出ている道の先の地点\n",
        "from1 = [0, 2, 3, 4, -1]#1地点から出ている道の先の地点\n",
        "from2 = [0, 1, 3, -1]   #2地点から出ている道の先の地点\n",
        "from3 = [1, 2, 4, -1]   #3地点から出ている道の先の地点\n",
        "from4 = [1, 3, -1]      #4地点から出ている道の先の地点\n",
        "roads = [from0, from1, from2, from3, from4] #道順を記録するファイル\n",
        "def bfs(s,g):  #最短ルートを見つける関数\n",
        "    way = [(s, [s])]  #(現在の地点, 経路)を変数wayに代入\n",
        "    visited = [False] * len(roads)  #訪問済みの地点を記録するリスト\n",
        "    visited[s] = True               #訪問済みの地点を記録\n",
        "    front = 0                       #先頭位置を示す変数front\n",
        "    while front < len(way):         #wayの長さ分\n",
        "        a, path = way[front]        #2変数に道リストを代入\n",
        "        front += 1                  #frontを1つずらす\n",
        "        if a == g:                  #目的地に到達したら\n",
        "            return path             #最短経路を返す\n",
        "        for next in roads[a]:       #次の地点を探索\n",
        "            if next == -1:          #ある地点からの候補の道がなくなったら\n",
        "                break               #ループ終了\n",
        "            if not visited[next]:   #まだ通ったことのない道の時\n",
        "                visited[next] = True#道をリストに記録する\n",
        "                way.append((next, path + [next]))  #最短距離リストに道を格納\n",
        "\n",
        "result = bfs(0, 4)#0➟4の最短ルート関数を呼び出し\n",
        "print(result)     #最短距離の結果出力\n"
      ],
      "metadata": {
        "colab": {
          "base_uri": "https://localhost:8080/"
        },
        "id": "V3vq2EhkCpvz",
        "outputId": "7a9d6316-c7f9-4660-baa9-c7f8d3b9748c"
      },
      "execution_count": null,
      "outputs": [
        {
          "output_type": "stream",
          "name": "stdout",
          "text": [
            "[0, 1, 4]\n"
          ]
        }
      ]
    }
  ]
}