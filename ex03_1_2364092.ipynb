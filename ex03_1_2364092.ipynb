{
  "nbformat": 4,
  "nbformat_minor": 0,
  "metadata": {
    "colab": {
      "provenance": []
    },
    "kernelspec": {
      "name": "python3",
      "display_name": "Python 3"
    },
    "language_info": {
      "name": "python"
    }
  },
  "cells": [
    {
      "cell_type": "code",
      "execution_count": 3,
      "metadata": {
        "id": "h1rYiBLIi6BH"
      },
      "outputs": [],
      "source": [
        "def fn(x):\n",
        "  n=1\n",
        "  result = 0\n",
        "  while n<=x:\n",
        "    result += n*n\n",
        "    n += 1\n",
        "  return result"
      ]
    },
    {
      "cell_type": "code",
      "source": [
        "x = int( input(\"n=:\"))\n",
        "print(fn(x))"
      ],
      "metadata": {
        "colab": {
          "base_uri": "https://localhost:8080/"
        },
        "id": "urghxtKxq0AV",
        "outputId": "2875c115-8a11-4626-ecc5-9aef76c22d5a"
      },
      "execution_count": 4,
      "outputs": [
        {
          "output_type": "stream",
          "name": "stdout",
          "text": [
            "n=:0\n",
            "0\n"
          ]
        }
      ]
    },
    {
      "cell_type": "code",
      "source": [
        "x = int( input(\"n=:\"))\n",
        "print(fn(x))"
      ],
      "metadata": {
        "colab": {
          "base_uri": "https://localhost:8080/"
        },
        "id": "sq4HTHgbZ_HG",
        "outputId": "9c7c1799-4a23-43c1-dfeb-79b48f3d04e7"
      },
      "execution_count": 5,
      "outputs": [
        {
          "output_type": "stream",
          "name": "stdout",
          "text": [
            "n=:1\n",
            "1\n"
          ]
        }
      ]
    },
    {
      "cell_type": "code",
      "source": [
        "x = int( input(\"n=:\"))\n",
        "print(fn(x))"
      ],
      "metadata": {
        "colab": {
          "base_uri": "https://localhost:8080/"
        },
        "id": "lk3UnoITaDtB",
        "outputId": "1ef49ca7-da82-4fcf-ee73-ba925394d7d2"
      },
      "execution_count": 6,
      "outputs": [
        {
          "output_type": "stream",
          "name": "stdout",
          "text": [
            "n=:2\n",
            "5\n"
          ]
        }
      ]
    },
    {
      "cell_type": "code",
      "source": [
        "x = int( input(\"n=:\"))\n",
        "print(fn(x))"
      ],
      "metadata": {
        "colab": {
          "base_uri": "https://localhost:8080/"
        },
        "id": "jiG0-0j6aIbJ",
        "outputId": "ed5ce470-9722-4c54-c3f9-4b0dacd282cb"
      },
      "execution_count": 7,
      "outputs": [
        {
          "output_type": "stream",
          "name": "stdout",
          "text": [
            "n=:3\n",
            "14\n"
          ]
        }
      ]
    },
    {
      "cell_type": "code",
      "source": [
        "x = int( input(\"n=:\"))\n",
        "print(fn(x))"
      ],
      "metadata": {
        "colab": {
          "base_uri": "https://localhost:8080/"
        },
        "id": "czBGvpUxaLbM",
        "outputId": "e6357514-05fa-487f-b607-bc827c85d484"
      },
      "execution_count": 8,
      "outputs": [
        {
          "output_type": "stream",
          "name": "stdout",
          "text": [
            "n=:4\n",
            "30\n"
          ]
        }
      ]
    },
    {
      "cell_type": "code",
      "source": [
        "x = int( input(\"n=:\"))\n",
        "print(fn(x))"
      ],
      "metadata": {
        "colab": {
          "base_uri": "https://localhost:8080/"
        },
        "id": "kygyW-TiaO_X",
        "outputId": "02a4c536-61b9-4114-b1d5-0a87d56fd8a6"
      },
      "execution_count": 9,
      "outputs": [
        {
          "output_type": "stream",
          "name": "stdout",
          "text": [
            "n=:5\n",
            "55\n"
          ]
        }
      ]
    },
    {
      "cell_type": "code",
      "source": [
        "x = int( input(\"n=:\"))\n",
        "print(fn(x))"
      ],
      "metadata": {
        "colab": {
          "base_uri": "https://localhost:8080/"
        },
        "id": "dx3XTsGSaSC1",
        "outputId": "d125910c-6ee4-4fa0-821e-eb1a859b5b78"
      },
      "execution_count": 10,
      "outputs": [
        {
          "output_type": "stream",
          "name": "stdout",
          "text": [
            "n=:10\n",
            "385\n"
          ]
        }
      ]
    }
  ]
}