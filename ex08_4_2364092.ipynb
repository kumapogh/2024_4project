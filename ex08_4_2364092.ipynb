{
  "nbformat": 4,
  "nbformat_minor": 0,
  "metadata": {
    "colab": {
      "provenance": []
    },
    "kernelspec": {
      "name": "python3",
      "display_name": "Python 3"
    },
    "language_info": {
      "name": "python"
    }
  },
  "cells": [
    {
      "cell_type": "code",
      "execution_count": null,
      "metadata": {
        "id": "YKnZ1MBdkgNe",
        "colab": {
          "base_uri": "https://localhost:8080/"
        },
        "outputId": "11fbb3f0-ee06-4ad3-bd07-7da51dd7d804"
      },
      "outputs": [
        {
          "output_type": "stream",
          "name": "stdout",
          "text": [
            "\n",
            "正数nの値を入力してください（負の数の入力で終了）n＝5\n",
            "二重再帰：計算結果： 5 呼び出し回数： 15\n",
            "末尾再帰：計算結果： 5 呼び出し回数： 5\n",
            "繰り返し：計算結果： 5 繰り返し回数： 4\n",
            "\n",
            "正数nの値を入力してください（負の数の入力で終了）n＝15\n",
            "二重再帰：計算結果： 610 呼び出し回数： 1988\n",
            "末尾再帰：計算結果： 610 呼び出し回数： 20\n",
            "繰り返し：計算結果： 610 繰り返し回数： 18\n",
            "\n",
            "正数nの値を入力してください（負の数の入力で終了）n＝30\n",
            "二重再帰：計算結果： 832040 呼び出し回数： 2694525\n",
            "末尾再帰：計算結果： 832040 呼び出し回数： 50\n",
            "繰り返し：計算結果： 832040 繰り返し回数： 47\n",
            "\n",
            "正数nの値を入力してください（負の数の入力で終了）n＝-9\n",
            "プログラムを終了します\n"
          ]
        }
      ],
      "source": [
        "def main():       #main()関数の定義\n",
        "  global num1,num2,num3  #3つのグローバル変数の定義\n",
        "  num1,num2,num3=0,0,0   #繰り返し数の初期値は0\n",
        "  while True:            #条件を満たす時成立のループ\n",
        "    n = int(input(\"\\n正数nの値を入力してください（負の数の入力で終了）n＝\"))#nに自然数を代入\n",
        "    if n > 0:        #nが整数の時\n",
        "      print(\"二重再帰：計算結果：\",fibo_w(n),\"呼び出し回数：\",num1)#二重再帰関数の呼び出し\n",
        "      print(\"末尾再帰：計算結果：\",fibo_m(n-1),\"呼び出し回数：\",num2)#末尾再帰関数の呼び出し\n",
        "      print(\"繰り返し：計算結果：\",fibo_tr(n),\"繰り返し回数：\",num3)#繰り返し関数の呼び出し\n",
        "    else:            #nが0または負の値の時\n",
        "      print(\"プログラムを終了します\")  #メッセージを出力\n",
        "      break         #プログラムを終了\n",
        "def fibo_w(n):#二重再帰関数\n",
        "  global num1 #グローバル変数num1\n",
        "  if n ==0:   #nの値が1の時\n",
        "    num1+= 1  #呼び出し回数＋1回\n",
        "    return 0  #値を返さない（0を返す）\n",
        "  elif n == 1:#nの値が1の時\n",
        "    num1+= 1  #呼び出し回数＋1回\n",
        "    return 1  #1を返す\n",
        "  else:       #nが0でも1でもない時\n",
        "    num1+= 1  #呼び出し回数＋1回\n",
        "    return fibo_w(n-1)+fibo_w(n-2) #fibo_w(n-1)+fibo_w(n-2)を返す\n",
        "\n",
        "def fibo_m(n,a1 = 1,a2=0):#末尾再帰関数\n",
        "  global num2  #グローバル変数num2\n",
        "  if n < 1:    #nが1未満の時\n",
        "    num2 +=1   #呼び出し回数＋1回\n",
        "    return a1  #a1を返す\n",
        "  num2 += 1    #呼び出し回数＋1回\n",
        "  return fibo_m(n-1,a1+a2,a1) #fibo_m(n-1,a1+a2,a1)を返す\n",
        "\n",
        "def fibo_tr(n):#ループ関数\n",
        "  global num3  #グローバル変数num3\n",
        "  a,b = 0,1    #a,b=0,1と初期値設定\n",
        "  if n == 0:   #nの値が0の時\n",
        "    return a   #aを返す\n",
        "  elif n == 1: #nの値が1の時\n",
        "    return b   #bを返す\n",
        "  else:        #nの値が0でも1でもない時\n",
        "    for i in range(n-1):#n-1までのiに対して\n",
        "      a,b = b,a+b       #aにbの値、bにa+bの値を代入\n",
        "      num3 +=1          #繰り返し回数＋1回\n",
        "    return b            #bに値を返す\n",
        "\n",
        "\n",
        "main()      #main()関数の実行\n"
      ]
    }
  ]
}