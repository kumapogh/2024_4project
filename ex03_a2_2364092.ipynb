{
  "nbformat": 4,
  "nbformat_minor": 0,
  "metadata": {
    "colab": {
      "provenance": []
    },
    "kernelspec": {
      "name": "python3",
      "display_name": "Python 3"
    },
    "language_info": {
      "name": "python"
    }
  },
  "cells": [
    {
      "cell_type": "code",
      "execution_count": null,
      "metadata": {
        "colab": {
          "base_uri": "https://localhost:8080/"
        },
        "id": "OXVjBEQYHmmO",
        "outputId": "c473aaa4-5d27-434c-e4c8-f0d96b44dfb8"
      },
      "outputs": [
        {
          "output_type": "stream",
          "name": "stdout",
          "text": [
            "1人目の成績は\n",
            "Sです\n",
            "2人目の成績は\n",
            "Aです\n",
            "3人目の成績は\n",
            "Cです\n",
            "4人目の成績は\n",
            "Fです\n",
            "5人目の成績は\n",
            "Aです\n",
            "6人目の成績は\n",
            "Bです\n",
            "7人目の成績は\n",
            "Cです\n",
            "8人目の成績は\n",
            "Aです\n",
            "9人目の成績は\n",
            "Sです\n"
          ]
        }
      ],
      "source": [
        "list=[76,98,80,69,49,88,71,66,82,100]\n",
        "for i in range(0,9):\n",
        "  a=str(i+1)\n",
        "  print(a+\"人目の成績は\")\n",
        "  if list[i+1]>=90:\n",
        "    print(\"Sです\")\n",
        "  elif list[i+1]>=80:\n",
        "    print(\"Aです\")\n",
        "  elif list[i+1]>=70:\n",
        "    print(\"Bです\")\n",
        "  elif list[i+1]>=60:\n",
        "   print(\"Cです\")\n",
        "  elif list[i+1]<=59:\n",
        "   print(\"Fです\")"
      ]
    }
  ]
}