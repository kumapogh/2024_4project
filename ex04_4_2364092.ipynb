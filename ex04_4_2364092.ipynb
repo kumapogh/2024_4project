{
  "nbformat": 4,
  "nbformat_minor": 0,
  "metadata": {
    "colab": {
      "provenance": []
    },
    "kernelspec": {
      "name": "python3",
      "display_name": "Python 3"
    },
    "language_info": {
      "name": "python"
    }
  },
  "cells": [
    {
      "cell_type": "code",
      "source": [
        "f = open(\"sample1.py\",\"w\")\n",
        "f.write(\"\"\"a = 3\n",
        "b = 2\n",
        "# この行は空行\n",
        "x = a / b\n",
        "print( \"a / b == {:f}\".format( x ) )\n",
        "# {:f}はformatメソッドの引数の値を浮動小数点数として解釈する\"\"\")\n",
        "f.close()"
      ],
      "metadata": {
        "id": "aGdeEc7NJh8u"
      },
      "execution_count": 11,
      "outputs": []
    },
    {
      "cell_type": "code",
      "execution_count": 3,
      "metadata": {
        "id": "uNlpn3Wc-Swl"
      },
      "outputs": [],
      "source": [
        "f = open(\"sample2.py\",\"w\")\n",
        "f.write(\"\"\"c = 3.0\n",
        "d = 0.02e2　　# 指数表示 0.02×( 10 の 2 乗 )\n",
        "# この行は空行\n",
        "print(\"c={:f}, d={:f}\".format(c,d))\"\"\")\n",
        "f.close()"
      ]
    },
    {
      "cell_type": "code",
      "source": [
        "def main():\n",
        "  File = input(\"ファイル名を入力してください：\")\n",
        "  print(\"コメント部分削除前のファイルの内容:\")\n",
        "  f = open(str(File),\"r\")\n",
        "  text = f.read()\n",
        "  f.close()\n",
        "  print(text)\n",
        "  print(\"   \")\n",
        "  print(\"削除した結果:\")\n",
        "  Filedel=File\n",
        "  fdel = open(str(Filedel), \"r\")\n",
        "  lines = fdel.readlines()\n",
        "  fdel.close()\n",
        "  for i, line in enumerate(lines):\n",
        "    target = \"#\"\n",
        "    idx = line.find(target)\n",
        "    r = line[0:idx]\n",
        "    print(r)\n",
        "\n",
        "main()\n",
        "main()"
      ],
      "metadata": {
        "colab": {
          "base_uri": "https://localhost:8080/"
        },
        "id": "IHe4ayo0CFtB",
        "outputId": "19021ded-abbd-47cd-8cb4-3f5e49fa3499"
      },
      "execution_count": 13,
      "outputs": [
        {
          "output_type": "stream",
          "name": "stdout",
          "text": [
            "ファイル名を入力してください：sample1.py\n",
            "コメント部分削除前のファイルの内容:\n",
            "a = 3\n",
            "b = 2\n",
            "# この行は空行\n",
            "x = a / b\n",
            "print( \"a / b == {:f}\".format( x ) )\n",
            "# {:f}はformatメソッドの引数の値を浮動小数点数として解釈する\n",
            "   \n",
            "削除した結果:\n",
            "a = 3\n",
            "b = 2\n",
            "\n",
            "x = a / b\n",
            "print( \"a / b == {:f}\".format( x ) )\n",
            "\n",
            "ファイル名を入力してください：sample2.py\n",
            "コメント部分削除前のファイルの内容:\n",
            "c = 3.0\n",
            "d = 0.02e2　　# 指数表示 0.02×( 10 の 2 乗 )\n",
            "# この行は空行\n",
            "print(\"c={:f}, d={:f}\".format(c,d))\n",
            "   \n",
            "削除した結果:\n",
            "c = 3.0\n",
            "d = 0.02e2　　\n",
            "\n",
            "print(\"c={:f}, d={:f}\".format(c,d)\n"
          ]
        }
      ]
    }
  ]
}