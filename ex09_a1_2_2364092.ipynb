{
  "nbformat": 4,
  "nbformat_minor": 0,
  "metadata": {
    "colab": {
      "provenance": []
    },
    "kernelspec": {
      "name": "python3",
      "display_name": "Python 3"
    },
    "language_info": {
      "name": "python"
    }
  },
  "cells": [
    {
      "cell_type": "code",
      "execution_count": 2,
      "metadata": {
        "colab": {
          "base_uri": "https://localhost:8080/"
        },
        "id": "sm-OGt762Kt3",
        "outputId": "b18474cc-ffa2-4f03-c677-6b723999b59e"
      },
      "outputs": [
        {
          "output_type": "stream",
          "name": "stdout",
          "text": [
            "67392 / 5184 = 13\n",
            "81549 / 6273 = 13\n",
            "94653 / 7281 = 13\n"
          ]
        }
      ],
      "source": [
        "def new(elements):\n",
        "    if len(elements) == 1:\n",
        "        return [elements]\n",
        "    List = []\n",
        "    for i in range(len(elements)):\n",
        "        c = elements[i]\n",
        "        remaining = elements[:i] + elements[i+1:]\n",
        "        for perm in new(remaining):\n",
        "            List.append([c] + perm)\n",
        "    return List\n",
        "\n",
        "def keisan():\n",
        "    digits = '123456789'\n",
        "    out = list(digits)\n",
        "    aaa = new(out)\n",
        "    results = []\n",
        "    for perm in aaa:\n",
        "        num1 = int(''.join(perm[:5]))\n",
        "        num2 = int(''.join(perm[5:]))\n",
        "        if num1 / num2 == 13:\n",
        "            results.append((num1, num2))\n",
        "    return results\n",
        "\n",
        "results = keisan()\n",
        "for result in results:\n",
        "    print(f\"{result[0]} / {result[1]} = 13\")\n",
        "\n"
      ]
    }
  ]
}