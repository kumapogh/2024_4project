{
  "nbformat": 4,
  "nbformat_minor": 0,
  "metadata": {
    "colab": {
      "provenance": []
    },
    "kernelspec": {
      "name": "python3",
      "display_name": "Python 3"
    },
    "language_info": {
      "name": "python"
    }
  },
  "cells": [
    {
      "cell_type": "code",
      "execution_count": null,
      "metadata": {
        "colab": {
          "base_uri": "https://localhost:8080/"
        },
        "id": "OkTyZ6d41_Bn",
        "outputId": "f22183d4-9400-4f4c-ff92-d1be283544a0"
      },
      "outputs": [
        {
          "output_type": "stream",
          "name": "stdout",
          "text": [
            "ベクトルの次数n (最大10)=3\n",
            "ベクトル１の入力\n",
            "1\n",
            "1\n",
            "1\n",
            "ベクトル2の入力\n",
            "2\n",
            "2\n",
            "2\n",
            "内積=6.0\n"
          ]
        }
      ],
      "source": [
        "vac1 = [0,0,0,0,0,0,0,0,0,0]\n",
        "vac2 = [0,0,0,0,0,0,0,0,0,0]\n",
        "def main():\n",
        "  n = int(input(\"ベクトルの次数n (最大10)=\"))\n",
        "  print(\"ベクトル１の入力\")\n",
        "  for i in range (0,n):\n",
        "   vac1[i] = input(\"\")\n",
        "  print(\"ベクトル2の入力\")\n",
        "  for i in range (0,n):\n",
        "   vac2[i] = input(\"\")\n",
        "  print(\"内積=\"+str(inseki(n,vac1,vac2)))\n",
        "\n",
        "def inseki(n,vac1,vac2):\n",
        "  result = 0\n",
        "  for i in range (0,n):\n",
        "   result += float(vac1[i])*float(vac2[i])\n",
        "  return result\n",
        "\n",
        "\n",
        "main()\n",
        "\n",
        "\n",
        "\n"
      ]
    }
  ]
}