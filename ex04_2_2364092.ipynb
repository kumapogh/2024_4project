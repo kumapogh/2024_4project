{
  "nbformat": 4,
  "nbformat_minor": 0,
  "metadata": {
    "colab": {
      "provenance": []
    },
    "kernelspec": {
      "name": "python3",
      "display_name": "Python 3"
    },
    "language_info": {
      "name": "python"
    }
  },
  "cells": [
    {
      "cell_type": "code",
      "execution_count": 1,
      "metadata": {
        "colab": {
          "base_uri": "https://localhost:8080/"
        },
        "id": "UKALSh2HwSs7",
        "outputId": "2ab29c0d-9585-442f-bec5-2dfb5d93635f"
      },
      "outputs": [
        {
          "output_type": "stream",
          "name": "stdout",
          "text": [
            "Yokohama National University\n",
            "College of Engineering Science\n",
            "Department of Mathematics, Physics, Electrical Engineering and Computer Science\n"
          ]
        }
      ],
      "source": [
        "f = open(\"Coll_of_ES.txt\",\"w\")\n",
        "f.write(\"\"\"Yokohama National University\n",
        "College of Engineering Science\n",
        "Department of Mathematics, Physics, Electrical Engineering and Computer Science\"\"\")\n",
        "f.close\n",
        "f=open(\"Coll_of_ES.txt\",\"r\")\n",
        "text = f.read()\n",
        "f.close\n",
        "print(text)"
      ]
    },
    {
      "cell_type": "code",
      "source": [
        "!ls -l"
      ],
      "metadata": {
        "colab": {
          "base_uri": "https://localhost:8080/"
        },
        "id": "j26IvKElx2tq",
        "outputId": "95721fbe-6938-45ba-a654-3e861d8b1e72"
      },
      "execution_count": 2,
      "outputs": [
        {
          "output_type": "stream",
          "name": "stdout",
          "text": [
            "total 8\n",
            "-rw-r--r-- 1 root root  139 May  8 12:36 Coll_of_ES.txt\n",
            "drwxr-xr-x 1 root root 4096 May  6 13:19 sample_data\n"
          ]
        }
      ]
    },
    {
      "cell_type": "code",
      "source": [
        "def file_copy(ffile,gfile):\n",
        " f = open(ffile,\"r\")\n",
        " g = open(gfile,\"w\")\n",
        " import shutil\n",
        " shutil.copy2(ffile,gfile)\n",
        " f.close()\n",
        " g.close()"
      ],
      "metadata": {
        "id": "xI29lCJKyKFd"
      },
      "execution_count": 3,
      "outputs": []
    },
    {
      "cell_type": "code",
      "source": [
        "\n",
        "def main():\n",
        " ffile=input(\"input source file name:\")\n",
        " gfile=input(\"input target file name:\")\n",
        " a=input(\"copy from \" + str(ffile)+ \"to\"+ str(gfile)+\" ,ok?(y/n):\")\n",
        " if a == \"y\":\n",
        "  file_copy(ffile,gfile)\n",
        "\n",
        "main()"
      ],
      "metadata": {
        "id": "020i29KTy3bc",
        "colab": {
          "base_uri": "https://localhost:8080/"
        },
        "outputId": "2fdbc45b-5c5c-450f-f9c6-148bfc0ee348"
      },
      "execution_count": 10,
      "outputs": [
        {
          "name": "stdout",
          "output_type": "stream",
          "text": [
            "input source file name:Coll_of_ES.txt\n",
            "input target file name:copy1.txt\n",
            "copy from Coll_of_ES.txttocopy1.txt ,ok?(y/n):y\n"
          ]
        }
      ]
    },
    {
      "cell_type": "code",
      "source": [
        "f = open(\"copy1.txt\",\"r\")\n",
        "text = f.read()\n",
        "f.close\n",
        "print(text)"
      ],
      "metadata": {
        "id": "UeuqKfRg7hA0",
        "colab": {
          "base_uri": "https://localhost:8080/"
        },
        "outputId": "d47910c6-295a-4b90-af77-681da3769d06"
      },
      "execution_count": 11,
      "outputs": [
        {
          "output_type": "stream",
          "name": "stdout",
          "text": [
            "Yokohama National University\n",
            "College of Engineering Science\n",
            "Department of Mathematics, Physics, Electrical Engineering and Computer Science\n"
          ]
        }
      ]
    },
    {
      "cell_type": "code",
      "source": [
        "ls -l"
      ],
      "metadata": {
        "id": "czD_4AhgNhiF",
        "colab": {
          "base_uri": "https://localhost:8080/"
        },
        "outputId": "a046aa75-a961-4f69-849b-830ab6596b71"
      },
      "execution_count": 12,
      "outputs": [
        {
          "output_type": "stream",
          "name": "stdout",
          "text": [
            "total 12\n",
            "-rw-r--r-- 1 root root  139 May  8 12:36 Coll_of_ES.txt\n",
            "-rw-r--r-- 1 root root  139 May  8 12:36 copy1.txt\n",
            "drwxr-xr-x 1 root root 4096 May  6 13:19 \u001b[0m\u001b[01;34msample_data\u001b[0m/\n"
          ]
        }
      ]
    }
  ]
}