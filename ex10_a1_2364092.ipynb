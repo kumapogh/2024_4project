{
  "nbformat": 4,
  "nbformat_minor": 0,
  "metadata": {
    "colab": {
      "provenance": []
    },
    "kernelspec": {
      "name": "python3",
      "display_name": "Python 3"
    },
    "language_info": {
      "name": "python"
    }
  },
  "cells": [
    {
      "cell_type": "code",
      "execution_count": 4,
      "metadata": {
        "colab": {
          "base_uri": "https://localhost:8080/"
        },
        "id": "2tFbs6ux-MPg",
        "outputId": "87647f92-2c68-4fbd-8644-feab1c9696ae"
      },
      "outputs": [
        {
          "output_type": "stream",
          "name": "stdout",
          "text": [
            "['Fill( A )', 'Move( A, B )', 'Drop( B )', 'Move( A, B )', 'Fill( A )', 'Move( A, B )']\n"
          ]
        }
      ],
      "source": [
        "class Bucket:\n",
        "    def __init__(self, cap):\n",
        "        self.cap = cap\n",
        "        self.current = 0\n",
        "    def fill(self):\n",
        "        self.current = self.cap\n",
        "    def drop(self):\n",
        "        self.current = 0\n",
        "\n",
        "    def move(self, other):\n",
        "        total = self.current + other.current\n",
        "        other.current = min(total, other.cap)\n",
        "        self.current = total - other.current\n",
        "\n",
        "def measure_water(A, B, C):\n",
        "    buA = Bucket(A)\n",
        "    buB = Bucket(B)\n",
        "    operations = []\n",
        "\n",
        "    while buA.current != C and buB.current != C:\n",
        "        if buA.current == 0:\n",
        "            buA.fill()\n",
        "            operations.append(\"Fill( A )\")\n",
        "        elif buB.current == B:\n",
        "            buB.drop()\n",
        "            operations.append(\"Drop( B )\")\n",
        "        else:\n",
        "            buA.move(buB)\n",
        "            operations.append(\"Move( A, B )\")\n",
        "\n",
        "    return operations\n",
        "\n",
        "A = 5\n",
        "B = 3\n",
        "C = 4\n",
        "print(measure_water(A, B, C))\n"
      ]
    }
  ]
}