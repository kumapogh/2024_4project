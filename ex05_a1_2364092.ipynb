{
  "nbformat": 4,
  "nbformat_minor": 0,
  "metadata": {
    "colab": {
      "provenance": []
    },
    "kernelspec": {
      "name": "python3",
      "display_name": "Python 3"
    },
    "language_info": {
      "name": "python"
    }
  },
  "cells": [
    {
      "cell_type": "code",
      "execution_count": null,
      "metadata": {
        "colab": {
          "base_uri": "https://localhost:8080/"
        },
        "id": "ytMU6btdCp2j",
        "outputId": "20ae088b-e56b-435c-fb55-a30d9cfc7a3c"
      },
      "outputs": [
        {
          "output_type": "stream",
          "name": "stdout",
          "text": [
            "ベクトルの次数n (最大10)=4\n",
            "ベクトル１の入力\n",
            "3\n",
            "7\n",
            "8\n",
            "6\n",
            "ベクトル2の入力\n",
            "8\n",
            "2\n",
            "3\n",
            "1\n",
            "φ＝64.50833775828877\n"
          ]
        }
      ],
      "source": [
        "import math\n",
        "vac1 = [0,0,0,0,0,0,0,0,0,0]\n",
        "vac2 = [0,0,0,0,0,0,0,0,0,0]\n",
        "def main():\n",
        "  n = int(input(\"ベクトルの次数n (最大10)=\"))\n",
        "  print(\"ベクトル１の入力\")\n",
        "  for i in range (0,n):\n",
        "   vac1[i] = input(\"\")\n",
        "  print(\"ベクトル2の入力\")\n",
        "  for i in range (0,n):\n",
        "   vac2[i] = input(\"\")\n",
        "  cos = inseki(n) / ((vac(vac1,n)) * (vac(vac2,n)))\n",
        "  acos = math.acos(cos)\n",
        "  print(\"φ＝\"+str(rad(acos)))\n",
        "\n",
        "def inseki(n):\n",
        "  result = 0\n",
        "  for i in range (0,n):\n",
        "   result += float(vac1[i])*float(vac2[i])\n",
        "  return result\n",
        "\n",
        "def vac(vac,n):\n",
        "  bigvec = 0\n",
        "  for i in range (0,n):\n",
        "   bigvec += float(vac1[i])**2\n",
        "  vec = math.sqrt(bigvec)\n",
        "  return vec\n",
        "\n",
        "def rad(raj):\n",
        "  deg = raj * 180 / math.pi\n",
        "  return deg\n",
        "\n",
        "main()"
      ]
    }
  ]
}