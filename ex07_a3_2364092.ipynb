{
  "nbformat": 4,
  "nbformat_minor": 0,
  "metadata": {
    "colab": {
      "provenance": []
    },
    "kernelspec": {
      "name": "python3",
      "display_name": "Python 3"
    },
    "language_info": {
      "name": "python"
    }
  },
  "cells": [
    {
      "cell_type": "code",
      "source": [
        "import random\n",
        "import time\n",
        "def file(num):\n",
        "    data = [random.randint(1, 1000) for _ in range(10**num)]\n",
        "    return data\n",
        "\n",
        "# 単純選択ソートについて\n",
        "def simplese(a):\n",
        "    n = len(a)\n",
        "    looktime = 0\n",
        "    swich = 0\n",
        "    usetime = time.time()\n",
        "    for i in range(n):\n",
        "        min = i\n",
        "        for j in range(i + 1, n):\n",
        "            looktime += 1\n",
        "            if a[j] < a[min]:\n",
        "                min = j\n",
        "        a[i], a[min] = a[min], a[i]\n",
        "        swich += 1\n",
        "    endtime = time.time()\n",
        "    usetime = endtime - usetime\n",
        "    return looktime, swich, usetime\n",
        "\n",
        "# クイックソートについて\n",
        "def quick_sort(a):\n",
        "    def partition(a, low, high):\n",
        "        pivot = a[high]\n",
        "        i = low - 1\n",
        "        swich = 0\n",
        "        for j in range(low, high):\n",
        "            if a[j] < pivot:\n",
        "                i += 1\n",
        "                a[i], a[j] = a[j], a[i]\n",
        "                swich += 1\n",
        "        a[i + 1], a[high] = a[high], a[i + 1]\n",
        "        swich += 1\n",
        "        return i + 1, swich\n",
        "\n",
        "    def quickhelp(a, low, high):\n",
        "        if low < high:\n",
        "            pi, swich = partition(a, low, high)\n",
        "            quickhelp(a, low, pi - 1)\n",
        "            quickhelp(a, pi + 1, high)\n",
        "    n = len(a)\n",
        "    looktime = 0\n",
        "    swich = 0\n",
        "    starttime = time.time()\n",
        "    quickhelp(a, 0, n - 1)\n",
        "    endtime = time.time()\n",
        "    usetime = endtime - starttime\n",
        "    looktime = (n * (n - 1)) // 2\n",
        "    return looktime, swich, usetime\n",
        "\n",
        "# バブルソートについて\n",
        "def bubble_sort(a):\n",
        "    n = len(a)\n",
        "    looktime = 0\n",
        "    swich = 0\n",
        "    starttime = time.time()\n",
        "    for i in range(n):\n",
        "        for j in range(0, n - i - 1):\n",
        "            looktime += 1\n",
        "            if a[j] > a[j + 1]:\n",
        "                a[j], a[j + 1] = a[j + 1], a[j]\n",
        "                swich += 1\n",
        "\n",
        "    endtime = time.time()\n",
        "    usetime = endtime - starttime\n",
        "    return looktime, swich, usetime\n",
        "\n",
        "# マージソートについて\n",
        "def merge_sort(a):\n",
        "    def mergehelp(a):\n",
        "        if len(a) > 1:\n",
        "            mid = len(a) // 2\n",
        "            left_half = a[:mid]\n",
        "            right_half = a[mid:]\n",
        "            mergehelp(left_half)\n",
        "            mergehelp(right_half)\n",
        "            i = j = k = 0\n",
        "            while i < len(left_half) and j < len(right_half):\n",
        "                if left_half[i] < right_half[j]:\n",
        "                    a[k] = left_half[i]\n",
        "                    i += 1\n",
        "                else:\n",
        "                    a[k] = right_half[j]\n",
        "                    j += 1\n",
        "                k += 1\n",
        "            while i < len(left_half):\n",
        "                a[k] = left_half[i]\n",
        "                i += 1\n",
        "                k += 1\n",
        "            while j < len(right_half):\n",
        "                a[k] = right_half[j]\n",
        "                j += 1\n",
        "                k += 1\n",
        "    starttime = time.time()\n",
        "    mergehelp(a)\n",
        "    endtime = time.time()\n",
        "    usetime = endtime - starttime\n",
        "    return 0,0,usetime\n",
        "\n",
        "def result(algorithm, data):\n",
        "        looktime, swich, usetime = algorithm(data.copy())\n",
        "        print(f\"比較回数: {looktime}回, 入れ替え回数: {swich}回, 処理時間: {usetime:.6f} 秒\")\n",
        "\n",
        "data = file(3)\n",
        "print(\"データ件数3桁の時\")\n",
        "print(\"単純選択ソート:\")\n",
        "result(simplese, data)\n",
        "print(\"クイックソート:\")\n",
        "result(quick_sort, data)\n",
        "print(\"バブルソート:\")\n",
        "result(bubble_sort, data)\n",
        "print(\"マージソート:\")\n",
        "result(merge_sort, data)\n"
      ],
      "metadata": {
        "id": "uBGhi_llGsZk",
        "colab": {
          "base_uri": "https://localhost:8080/"
        },
        "outputId": "1e02f219-c9a0-4b40-9c89-ad6c1dba57db"
      },
      "execution_count": 5,
      "outputs": [
        {
          "output_type": "stream",
          "name": "stdout",
          "text": [
            "データ件数3桁の時\n",
            "単純選択ソート:\n",
            "比較回数: 499500回, 入れ替え回数: 1000回, 処理時間: 0.063677 秒\n",
            "クイックソート:\n",
            "比較回数: 499500回, 入れ替え回数: 0回, 処理時間: 0.002255 秒\n",
            "バブルソート:\n",
            "比較回数: 499500回, 入れ替え回数: 252336回, 処理時間: 0.124066 秒\n",
            "マージソート:\n",
            "比較回数: 0回, 入れ替え回数: 0回, 処理時間: 0.003582 秒\n"
          ]
        }
      ]
    },
    {
      "cell_type": "code",
      "source": [
        "\n",
        "data = file(4)\n",
        "print(\"データ件数4桁の時\")\n",
        "print(\"単純選択ソート:\")\n",
        "result(simplese, data)\n",
        "print(\"クイックソート:\")\n",
        "result(quick_sort, data)\n",
        "print(\"バブルソート:\")\n",
        "result(bubble_sort, data)\n",
        "print(\"マージソート:\")\n",
        "result(merge_sort, data)"
      ],
      "metadata": {
        "colab": {
          "base_uri": "https://localhost:8080/"
        },
        "id": "3rl-5ePVIXWL",
        "outputId": "6d286a41-71bd-43d8-b5c0-ee76140b1c49"
      },
      "execution_count": 6,
      "outputs": [
        {
          "output_type": "stream",
          "name": "stdout",
          "text": [
            "データ件数4桁の時\n",
            "単純選択ソート:\n",
            "比較回数: 49995000回, 入れ替え回数: 10000回, 処理時間: 7.633093 秒\n",
            "クイックソート:\n",
            "比較回数: 49995000回, 入れ替え回数: 0回, 処理時間: 0.054425 秒\n",
            "バブルソート:\n",
            "比較回数: 49995000回, 入れ替え回数: 24711376回, 処理時間: 14.776493 秒\n",
            "マージソート:\n",
            "比較回数: 0回, 入れ替え回数: 0回, 処理時間: 0.058920 秒\n"
          ]
        }
      ]
    },
    {
      "cell_type": "code",
      "source": [
        "\n",
        "data = file(5)\n",
        "print(\"データ件数5桁の時\")\n",
        "print(\"単純選択ソート:\")\n",
        "result(simplese, data)\n",
        "print(\"クイックソート:\")\n",
        "result(quick_sort, data)\n",
        "print(\"バブルソート:\")\n",
        "result(bubble_sort, data)\n",
        "print(\"マージソート:\")\n",
        "result(merge_sort, data)"
      ],
      "metadata": {
        "colab": {
          "base_uri": "https://localhost:8080/"
        },
        "id": "QVZvLuBQIkx-",
        "outputId": "dc3700f6-2207-44d9-d341-8ecd424a96c8"
      },
      "execution_count": null,
      "outputs": [
        {
          "output_type": "stream",
          "name": "stdout",
          "text": [
            "データ件数5桁の時\n",
            "単純選択ソート:\n"
          ]
        }
      ]
    }
  ]
}