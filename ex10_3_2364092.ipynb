{
  "nbformat": 4,
  "nbformat_minor": 0,
  "metadata": {
    "colab": {
      "provenance": []
    },
    "kernelspec": {
      "name": "python3",
      "display_name": "Python 3"
    },
    "language_info": {
      "name": "python"
    }
  },
  "cells": [
    {
      "cell_type": "code",
      "source": [
        "from0 = [1, 2, -1]\n",
        "from1 = [0, 2, 3, 4, -1]\n",
        "from2 = [0, 1, 3, -1]\n",
        "from3 = [1, 2, 4, -1]\n",
        "from4 = [1, 3, -1]\n",
        "roads = [from0, from1, from2, from3, from4]\n",
        "\n",
        "def way(a, path, checklist):\n",
        "    path.append(a)\n",
        "    if a == 4:\n",
        "        print(path)\n",
        "    else:\n",
        "       for next in roads[a]:\n",
        "        if next == -1:\n",
        "           break\n",
        "        if next not in checklist:\n",
        "           checklist.add(next)\n",
        "           way(next, path.copy(), checklist.copy())\n",
        "           checklist.remove(next)\n",
        "    path.pop()\n",
        "way(0, [], {0})\n"
      ],
      "metadata": {
        "colab": {
          "base_uri": "https://localhost:8080/"
        },
        "id": "yaZDPq3nZ4E-",
        "outputId": "6ad4beeb-4442-4f90-a81e-2a0855a3d2dd"
      },
      "execution_count": 1,
      "outputs": [
        {
          "output_type": "stream",
          "name": "stdout",
          "text": [
            "[0, 1, 2, 3, 4]\n",
            "[0, 1, 3, 4]\n",
            "[0, 1, 4]\n",
            "[0, 2, 1, 3, 4]\n",
            "[0, 2, 1, 4]\n",
            "[0, 2, 3, 1, 4]\n",
            "[0, 2, 3, 4]\n"
          ]
        }
      ]
    }
  ]
}