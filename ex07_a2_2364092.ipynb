{
  "nbformat": 4,
  "nbformat_minor": 0,
  "metadata": {
    "colab": {
      "provenance": []
    },
    "kernelspec": {
      "name": "python3",
      "display_name": "Python 3"
    },
    "language_info": {
      "name": "python"
    }
  },
  "cells": [
    {
      "cell_type": "code",
      "execution_count": 15,
      "metadata": {
        "colab": {
          "base_uri": "https://localhost:8080/"
        },
        "id": "MnmmxIYpRros",
        "outputId": "b96b3b4a-052f-46dd-9841-3308dacafd7b"
      },
      "outputs": [
        {
          "name": "stdout",
          "output_type": "stream",
          "text": [
            "開始位置を入力してくださいm=0\n",
            "終了位置を入力してくださいn=9\n",
            "[0, 1, 2, 3, 4, 5, 6, 7, 8, 9]\n",
            "開始位置を入力してくださいm=2\n",
            "終了位置を入力してくださいn=7\n",
            "[9, 1, 0, 2, 3, 4, 5, 7, 8, 6]\n",
            "開始位置を入力してくださいm=1\n",
            "終了位置を入力してくださいn=4\n",
            "[9, 0, 1, 3, 7, 5, 4, 2, 8, 6]\n",
            "開始位置を入力してくださいm=0\n",
            "終了位置を入力してくださいn=3\n",
            "[1, 3, 7, 9, 0, 5, 4, 2, 8, 6]\n",
            "開始位置を入力してくださいm=0\n",
            "終了位置を入力してくださいn=0\n"
          ]
        }
      ],
      "source": [
        "def main():\n",
        "  A = [9,1,3,7,0,5,4,2,8,6]\n",
        "  while True:\n",
        "    a = A[:]\n",
        "    m = int(input(\"開始位置を入力してくださいm=\"))\n",
        "    n = int(input(\"終了位置を入力してくださいn=\"))\n",
        "    if m==0 and n==0:\n",
        "     break\n",
        "    changea = bubblesort(a,m,n)\n",
        "    print(changea)\n",
        "def bubblesort(List,m,n):\n",
        "    n += 1\n",
        "    for i in range(m,n):\n",
        "      for j in range(m,n+m-i-1):\n",
        "       if List[j] > List[j+1]:\n",
        "          List[j], List[j+1] = List[j+1], List[j]\n",
        "    return List\n",
        "\n",
        "main()\n"
      ]
    }
  ]
}