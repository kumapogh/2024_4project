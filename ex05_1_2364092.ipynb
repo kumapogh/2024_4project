{
  "nbformat": 4,
  "nbformat_minor": 0,
  "metadata": {
    "colab": {
      "provenance": []
    },
    "kernelspec": {
      "name": "python3",
      "display_name": "Python 3"
    },
    "language_info": {
      "name": "python"
    }
  },
  "cells": [
    {
      "cell_type": "code",
      "execution_count": 5,
      "metadata": {
        "colab": {
          "base_uri": "https://localhost:8080/"
        },
        "id": "Z3r0NmogLgEu",
        "outputId": "aa2d7e2a-b089-4aae-f422-69af9ba0abba"
      },
      "outputs": [
        {
          "output_type": "stream",
          "name": "stdout",
          "text": [
            "[2, 4, 5, 6, 6, 7, 8, 8, 8, 9, 77, 6]\n",
            "最大値\n"
          ]
        },
        {
          "output_type": "execute_result",
          "data": {
            "text/plain": [
              "77"
            ]
          },
          "metadata": {},
          "execution_count": 5
        }
      ],
      "source": [
        "def maxf(listx):\n",
        "    for i in range(0,len(listx)-1):\n",
        "      if listx[i] > listx[i+1]:\n",
        "        max = listx[i]\n",
        "    return  (max)\n",
        "\n",
        "listx = [2,4,5,6,6,7,8,8,8,9,77,6]\n",
        "print(listx)\n",
        "print(\"最大値\")\n",
        "maxf(listx)\n"
      ]
    }
  ]
}