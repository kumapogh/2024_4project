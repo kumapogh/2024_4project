{
  "nbformat": 4,
  "nbformat_minor": 0,
  "metadata": {
    "colab": {
      "provenance": []
    },
    "kernelspec": {
      "name": "python3",
      "display_name": "Python 3"
    },
    "language_info": {
      "name": "python"
    }
  },
  "cells": [
    {
      "cell_type": "code",
      "execution_count": 3,
      "metadata": {
        "colab": {
          "base_uri": "https://localhost:8080/"
        },
        "id": "mp8-TqRE8oqx",
        "outputId": "f12f091d-6b20-46a7-e887-94ae00d3e7db"
      },
      "outputs": [
        {
          "output_type": "stream",
          "name": "stdout",
          "text": [
            "x:2\n",
            "y:3\n",
            "3\n",
            "3\n",
            "3\n"
          ]
        }
      ],
      "source": [
        "def mymax1():\n",
        "  if x>y:\n",
        "    print(x)\n",
        "  if y>x:\n",
        "    print(y)\n",
        "\n",
        "def mymax2():\n",
        "  if x>y:\n",
        "    print(x)\n",
        "  else:\n",
        "    print(y)\n",
        "\n",
        "def mymax3():\n",
        " print( x * (x >= y) + y * (y > x))\n",
        "\n",
        "x=input(\"x:\")\n",
        "y=input(\"y:\")\n",
        "mymax1()\n",
        "mymax2()\n",
        "mymax3()\n",
        "\n",
        "\n"
      ]
    }
  ]
}