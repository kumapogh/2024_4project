{
  "nbformat": 4,
  "nbformat_minor": 0,
  "metadata": {
    "colab": {
      "provenance": []
    },
    "kernelspec": {
      "name": "python3",
      "display_name": "Python 3"
    },
    "language_info": {
      "name": "python"
    }
  },
  "cells": [
    {
      "cell_type": "code",
      "execution_count": 13,
      "metadata": {
        "id": "zTmcaJddrcSo"
      },
      "outputs": [],
      "source": [
        "f = open(\"test1.txt\",\"w\")\n",
        "f.write(\"\"\"A - B - C - D - E - F - G\n",
        "H - I - J - K - L - M - N - O - P\n",
        "Q - R - S\n",
        "T - U - V\n",
        "W - X - Y and Zee\n",
        "Now I know my A - B - C\n",
        "Won't you come and sing with me?\"\"\")\n",
        "f.close()\n"
      ]
    },
    {
      "cell_type": "code",
      "source": [
        "!ls -l"
      ],
      "metadata": {
        "colab": {
          "base_uri": "https://localhost:8080/"
        },
        "id": "YMFA101osMm0",
        "outputId": "9489f2e5-fba6-4477-aae9-646ce0788590"
      },
      "execution_count": 4,
      "outputs": [
        {
          "output_type": "stream",
          "name": "stdout",
          "text": [
            "total 8\n",
            "drwxr-xr-x 1 root root 4096 May  6 13:19 sample_data\n",
            "-rw-r--r-- 1 root root  154 May  8 10:12 text1.txt\n"
          ]
        }
      ]
    },
    {
      "cell_type": "code",
      "source": [
        "f = open(\"test2.txt\",\"w\")\n",
        "f.write(\"\"\"A - B - C - D - E - F - G\n",
        "H - I - J - K - L - M - N - O - P\n",
        "Q - R - S\n",
        "T - U - V\n",
        "W - X - Y and Zee\n",
        "Happy, happy, I'm happy\n",
        "I can sing my ABC\"\"\")\n",
        "f.close()\n"
      ],
      "metadata": {
        "id": "jfG7jxI7sTHa"
      },
      "execution_count": 14,
      "outputs": []
    },
    {
      "cell_type": "code",
      "source": [
        "def main():\n",
        "  file1 = input(\"比較する1つ目のファイル名を入力してください：\")\n",
        "  file2 = input(\"比較する2つ目のファイル名を入力してください：\")\n",
        "  f1 = open(str(file1),\"r\")\n",
        "  text1 = f1.read()\n",
        "  f1.close()\n",
        "  f2 = open(str(file2),\"r\")\n",
        "  text2 = f2.read()\n",
        "  f2.close()\n",
        "  if text1 == text2:\n",
        "    print(str(file1)+\"と\"+str(file2)+\"は内容が同じです\")\n",
        "  if text1 != text2:\n",
        "    print(str(file1)+\"と\"+str(file2)+\"は内容が違います\")\n",
        "\n",
        "\n",
        "\n",
        "\n",
        "main()\n",
        "\n"
      ],
      "metadata": {
        "colab": {
          "base_uri": "https://localhost:8080/"
        },
        "id": "VQTsBAPLtDwo",
        "outputId": "8ddf73a6-c02d-4fbb-fd8b-38f75f0b428f"
      },
      "execution_count": 19,
      "outputs": [
        {
          "output_type": "stream",
          "name": "stdout",
          "text": [
            "比較する1つ目のファイル名を入力してください：test1.txt\n",
            "比較する2つ目のファイル名を入力してください：test2.txt\n",
            "test1.txtとtest2.txtは内容が違います\n"
          ]
        }
      ]
    }
  ]
}