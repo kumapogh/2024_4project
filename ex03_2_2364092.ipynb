{
  "nbformat": 4,
  "nbformat_minor": 0,
  "metadata": {
    "colab": {
      "provenance": []
    },
    "kernelspec": {
      "name": "python3",
      "display_name": "Python 3"
    },
    "language_info": {
      "name": "python"
    }
  },
  "cells": [
    {
      "cell_type": "markdown",
      "source": [],
      "metadata": {
        "id": "FK8ZgRdbJGIf"
      }
    },
    {
      "cell_type": "code",
      "source": [
        "def main():\n",
        "  global result\n",
        "  global num\n",
        "  result = 0\n",
        "  num = 0\n",
        "  n = 1\n",
        "  while n>=0:\n",
        "    n = int(input(\"n:\"))\n",
        "    fn(n)\n",
        "  return\n",
        "\n",
        "def fn(n):\n",
        "  global num\n",
        "  global result\n",
        "  if n == num:\n",
        "    print('再計算する必要はありません')\n",
        "    print(result)\n",
        "  elif n > 0:\n",
        "    result = 0\n",
        "    num = n\n",
        "    while n>0:\n",
        "      result += n*n\n",
        "      n -= 1\n",
        "    print(result)\n",
        "\n",
        "main()"
      ],
      "metadata": {
        "colab": {
          "base_uri": "https://localhost:8080/"
        },
        "id": "tqnakw45uiXH",
        "outputId": "92e71a44-a094-4a97-d012-46b682742656"
      },
      "execution_count": 4,
      "outputs": [
        {
          "name": "stdout",
          "output_type": "stream",
          "text": [
            "n:1\n",
            "1\n",
            "n:3\n",
            "14\n",
            "n:5\n",
            "55\n",
            "n:3\n",
            "14\n",
            "n:3\n",
            "再計算する必要はありません\n",
            "14\n",
            "n:-3\n"
          ]
        }
      ]
    },
    {
      "cell_type": "code",
      "source": [],
      "metadata": {
        "id": "DjsSAa4kDp4Y"
      },
      "execution_count": null,
      "outputs": []
    }
  ]
}