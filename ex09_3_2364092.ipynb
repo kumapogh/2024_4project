{
  "nbformat": 4,
  "nbformat_minor": 0,
  "metadata": {
    "colab": {
      "provenance": []
    },
    "kernelspec": {
      "name": "python3",
      "display_name": "Python 3"
    },
    "language_info": {
      "name": "python"
    }
  },
  "cells": [
    {
      "cell_type": "code",
      "source": [
        "for i in range(1, 10):\n",
        "    op[i] = 0\n",
        "while op[1] < 2:\n",
        "    s = 0\n",
        "    n = 0\n",
        "    sign = 1\n",
        "    for i in range(1, 10):\n",
        "        if op[i] == 0:\n",
        "            n = 10 * n + i\n",
        "        else:\n",
        "            s += sign * n\n",
        "            n = i\n",
        "            if op[i] == 1:\n",
        "                sign = -1\n",
        "            else:\n",
        "                sign = 1\n",
        "    s += sign * n\n",
        "    if s == 100:\n",
        "        result = \"\"\n",
        "        for i in range(1, 10):\n",
        "            if op[i] == 1:\n",
        "                result += \"－\"\n",
        "            elif op[i] == 2:\n",
        "                result += \"＋\"\n",
        "            result += str(i)\n",
        "        print(result+\"=100\")\n",
        "    i = 9\n",
        "    op[i] += 1\n",
        "    while i > 1 and op[i] == 3:\n",
        "        op[i] = 0\n",
        "        i -= 1\n",
        "        op[i] += 1\n"
      ],
      "metadata": {
        "colab": {
          "base_uri": "https://localhost:8080/"
        },
        "id": "QyfS5PGRWiV5",
        "outputId": "17323547-64bc-49d2-e424-54a169a7774a"
      },
      "execution_count": 6,
      "outputs": [
        {
          "output_type": "stream",
          "name": "stdout",
          "text": [
            "123－45－67＋89=100\n",
            "123－4－5－6－7＋8－9=100\n",
            "123＋45－67＋8－9=100\n",
            "123＋4－5＋67－89=100\n",
            "12－3－4＋5－6＋7＋89=100\n",
            "12＋3－4＋5＋67＋8＋9=100\n",
            "12＋3＋4＋5－6－7＋89=100\n",
            "1＋23－4＋56＋7＋8＋9=100\n",
            "1＋23－4＋5＋6＋78－9=100\n",
            "1＋2＋34－5＋67－8＋9=100\n",
            "1＋2＋3－4＋5＋6＋78＋9=100\n",
            "－1＋2－3＋4＋5＋6＋78＋9=100\n"
          ]
        }
      ]
    }
  ]
}