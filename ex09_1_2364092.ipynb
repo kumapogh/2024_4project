{
  "nbformat": 4,
  "nbformat_minor": 0,
  "metadata": {
    "colab": {
      "provenance": []
    },
    "kernelspec": {
      "name": "python3",
      "display_name": "Python 3"
    },
    "language_info": {
      "name": "python"
    }
  },
  "cells": [
    {
      "cell_type": "code",
      "execution_count": 12,
      "metadata": {
        "colab": {
          "base_uri": "https://localhost:8080/"
        },
        "id": "Ei6irgL79hTS",
        "outputId": "d3081a9b-9fea-46a0-9d75-d788313f6b06"
      },
      "outputs": [
        {
          "output_type": "stream",
          "name": "stdout",
          "text": [
            "■■■■■■■■■■\n",
            "■〇    ■■      ■\n",
            "■  ■        ■  ■\n",
            "■  ■■■  ■■  ■\n",
            "■    ■■    ■  ■\n",
            "■■    ■  ■■  ■\n",
            "■  ■  ■    ■  ■\n",
            "■      ■■      ■\n",
            "■■■        ■  ■\n",
            "■■■■■■■■〇■\n"
          ]
        }
      ],
      "source": [
        "data=[\n",
        "    [8,8,8,8,8,8,8,8,8,8],\n",
        "    [8,1,0,0,8,8,0,0,0,8],\n",
        "    [8,0,8,0,0,0,0,8,0,8],\n",
        "    [8,0,8,8,8,0,8,8,0,8],\n",
        "    [8,0,0,8,8,0,0,8,0,8],\n",
        "    [8,8,0,0,8,0,8,8,0,8],\n",
        "    [8,0,8,0,8,0,0,8,0,8],\n",
        "    [8,0,0,0,8,8,0,0,0,8],\n",
        "    [8,8,8,0,0,0,0,8,0,8],\n",
        "    [8,8,8,8,8,8,8,8,1,8]\n",
        "]\n",
        "\n",
        "for row in data:\n",
        "    for cell in row:\n",
        "      if cell == 0:\n",
        "        print(\"  \",end=\"\")\n",
        "      elif cell ==1:\n",
        "        print(\"〇\",end=\"\")\n",
        "      elif cell ==8:\n",
        "        print(\"■\",end=\"\")\n",
        "    print()"
      ]
    }
  ]
}