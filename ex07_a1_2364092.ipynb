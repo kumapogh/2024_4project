{
  "nbformat": 4,
  "nbformat_minor": 0,
  "metadata": {
    "colab": {
      "provenance": []
    },
    "kernelspec": {
      "name": "python3",
      "display_name": "Python 3"
    },
    "language_info": {
      "name": "python"
    }
  },
  "cells": [
    {
      "cell_type": "code",
      "execution_count": 40,
      "metadata": {
        "colab": {
          "base_uri": "https://localhost:8080/"
        },
        "id": "08I0-jkgNJSG",
        "outputId": "54946fc0-ca2c-48ca-a725-c5284a0114b9"
      },
      "outputs": [
        {
          "output_type": "stream",
          "name": "stdout",
          "text": [
            "比較回数:14入れ替え回数：21\n"
          ]
        }
      ],
      "source": [
        "import csv\n",
        "looktime = 0\n",
        "swich = 0\n",
        "\n",
        "class Item:\n",
        "  def __init__ (self, number:int, name:str, score:int):\n",
        "   self.number = number\n",
        "   self.name = name\n",
        "   self.score = score\n",
        "\n",
        "def aditem(item_list,number:int,name:str,score:int):\n",
        "  item_list.append(Item(number,name,score))\n",
        "\n",
        "def csvreader(filename:str, item_list):\n",
        "  with open(filename,'r') as f:\n",
        "    csvr = csv.reader(f)\n",
        "    next(csvr)\n",
        "    for row in csvr:\n",
        "      number = int(row[0])\n",
        "      name = str(row[1])\n",
        "      score = int(row[2])\n",
        "      aditem(item_list, number, name, score)\n",
        "\n",
        "def outout(item_list,newfile):\n",
        "  global looktime,swich\n",
        "  alist = mergesort(item_list)\n",
        "  f = open(newfile,\"w\")\n",
        "  for item in alist:\n",
        "    f.write(f\"{item.number:4},{item.name:16},{item.score}\\n\")\n",
        "\n",
        "  print(\"比較回数:\"+str(looktime)+\"入れ替え回数：\"+str(swich))\n",
        "\n",
        "def mergesort(a:list):\n",
        "    global looktime,swich\n",
        "    N = len(a)\n",
        "    t = [[[Item(None,None,None) for i in range(N)] for j in range(2)] for k in range(2)]\n",
        "    sd = (0, 1) #入力および出力の配列のインデクス\n",
        "    t[sd[0]][0][:(N//2)], t[sd[0]][1][:(N//2)] = a[:(N//2)], a[(N//2):] #初期データを分割\n",
        "    l = [[0 for i in range(2)] for j in range(2)] #各配列中にあるデータ数\n",
        "    l[0][0],l[0][1] = (N//2), (N-(N//2))\n",
        "\n",
        "\n",
        "\n",
        "    p = 1 #一度にマージする項目数\n",
        "    while True:\n",
        "        i = j = dt =0 # i,jは次に考慮すべき項目\n",
        "        while True:\n",
        "            if l[sd[0]][0] >= p:\n",
        "                q = p # qはt[s][0][]からマージする項目数\n",
        "            else:\n",
        "                q = l[sd[0]][0]\n",
        "            l[sd[0]][0] -= q\n",
        "            if l[sd[0]][1] >= p:\n",
        "                r = p # rはt[s][1][]からマージする項目数\n",
        "            else:\n",
        "                r = l[sd[0]][1]\n",
        "            l[sd[0]][1] -= r\n",
        "\n",
        "            k = l[sd[1]][dt] # kは出力列において書き込むべき位置\n",
        "            # kは出力列において書き込むべき一を表す添え字\n",
        "            # t[d][dt][k]から順に書いていく\n",
        "            while (q != 0) and (r != 0):\n",
        "                looktime += 1\n",
        "                if t[sd[0]][0][i].score < t[sd[0]][1][j].score or (t[sd[0]][0][i].score == t[sd[0]][1][j].score and t[sd[0]][0][i].number < t[sd[0]][1][j].number): #小さい方を出力用にコピー\n",
        "                    t[sd[1]][dt][k].score = t[sd[0]][0][i].score\n",
        "                    t[sd[1]][dt][k].name = t[sd[0]][0][i].name\n",
        "                    t[sd[1]][dt][k].number = t[sd[0]][0][i].number\n",
        "                    swich += 1\n",
        "                    i += 1\n",
        "                    q -= 1\n",
        "                else:\n",
        "                    swich += 1\n",
        "                    t[sd[1]][dt][k].score = t[sd[0]][1][j].score\n",
        "                    t[sd[1]][dt][k].name = t[sd[0]][1][j].name\n",
        "                    t[sd[1]][dt][k].number = t[sd[0]][1][j].number\n",
        "                    j += 1\n",
        "                    r -= 1\n",
        "                k += 1\n",
        "\n",
        "\n",
        "            while q != 0: #t[s][0][]にデータが残った場合，それをコピーする\n",
        "                swich += 1\n",
        "                t[sd[1]][dt][k].score = t[sd[0]][0][i].score\n",
        "                t[sd[1]][dt][k].name = t[sd[0]][0][i].name\n",
        "                t[sd[1]][dt][k].number = t[sd[0]][0][i].number\n",
        "                i += 1\n",
        "                q -= 1\n",
        "                k += 1\n",
        "            while r != 0:\n",
        "                swich += 1\n",
        "                t[sd[1]][dt][k].score = t[sd[0]][1][j].score\n",
        "                t[sd[1]][dt][k].name = t[sd[0]][1][j].name\n",
        "                t[sd[1]][dt][k].number = t[sd[0]][1][j].number\n",
        "                j += 1\n",
        "                r -= 1\n",
        "                k += 1\n",
        "            l[sd[1]][dt] = k #1回のマージ操作終了\n",
        "            dt = abs(1-dt) #01切り替え\n",
        "            if not ((l[sd[0]][0] > 0) or (l[sd[0]][1] > 0)):\n",
        "                break\n",
        "\n",
        "        sd = (sd[1], sd[0]) #入力配列と出力配列を入れ替え\n",
        "        p = p * 2 #一度にマージする長さを倍に\n",
        "\n",
        "        if p >= N: #終了条件\n",
        "            break\n",
        "    #マージ完了\n",
        "\n",
        "    for i in range(N):\n",
        "        a[i].score = t[(1-sd[1])][(1-dt)][i].score #最終的にt[!d][!dt][]に解が得られる\n",
        "        a[i].name = t[(1-sd[1])][(1-dt)][i].name\n",
        "        a[i].number = t[(1-sd[1])][(1-dt)][i].number\n",
        "    return a\n",
        "\n",
        "item_list = []\n",
        "csvreader('data_8.csv', item_list)\n",
        "outout(item_list,\"outputnoad71_8.txt\")"
      ]
    },
    {
      "cell_type": "code",
      "source": [
        "item_list = []\n",
        "csvreader('data_288.csv', item_list)\n",
        "outout(item_list,\"outputnoad71_288.txt\")"
      ],
      "metadata": {
        "colab": {
          "base_uri": "https://localhost:8080/"
        },
        "id": "v6vyizsMhN3E",
        "outputId": "a59e4c99-0670-4d04-e30a-ad136cbef201"
      },
      "execution_count": 38,
      "outputs": [
        {
          "output_type": "stream",
          "name": "stdout",
          "text": [
            "比較回数:27652入れ替え回数：32055\n"
          ]
        }
      ]
    },
    {
      "cell_type": "code",
      "source": [
        "item_list = []\n",
        "csvreader('data_2240.csv', item_list)\n",
        "outout(item_list,\"outputnoad71_2240.txt\")"
      ],
      "metadata": {
        "colab": {
          "base_uri": "https://localhost:8080/"
        },
        "id": "f40RPNKLhVdb",
        "outputId": "901d5afa-09a0-43d4-ffe8-e63bc931bc36"
      },
      "execution_count": 39,
      "outputs": [
        {
          "output_type": "stream",
          "name": "stdout",
          "text": [
            "比較回数:51058入れ替え回数：58923\n"
          ]
        }
      ]
    }
  ]
}