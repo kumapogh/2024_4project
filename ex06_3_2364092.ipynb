{
  "nbformat": 4,
  "nbformat_minor": 0,
  "metadata": {
    "colab": {
      "provenance": []
    },
    "kernelspec": {
      "name": "python3",
      "display_name": "Python 3"
    },
    "language_info": {
      "name": "python"
    }
  },
  "cells": [
    {
      "cell_type": "code",
      "source": [
        "import csv\n",
        "\n",
        "class Item:\n",
        "    def __init__(self,number:int, name: str,score:int):\n",
        "        self.number = number\n",
        "        self.name = name\n",
        "        self.score = score\n",
        "\n",
        "class ItemList:\n",
        "    def __init__(self):\n",
        "        self.item = []\n",
        "    def aditem(self,number:int,name:str,score:int):\n",
        "        self.item.append(Item(number, name, score))\n",
        "    def csvreader(self,filename:str):\n",
        "        with open(filename,'r') as f:\n",
        "            csvr = csv.reader(f)\n",
        "            next(csvr)\n",
        "            for row in csvr:\n",
        "                number = int(row[0])\n",
        "                name = str(row[1])\n",
        "                score = int(row[2])\n",
        "                self.aditem(number,name,score)\n",
        "    def outout(self, newfile:str):\n",
        "       f = open(newfile,'w')\n",
        "       for item in self.item:\n",
        "         f.write(f\"{item.number:4},{item.name:16},{item.score:3}\\n\")\n",
        "    def highsc(self,item,n):\n",
        "        looktime = 0\n",
        "        swich = 0\n",
        "        for i in range(n):\n",
        "            a = i\n",
        "            for j in range(i+1, n):\n",
        "                looktime += 1\n",
        "                if item[j].score > item[a].score:\n",
        "                    a = j\n",
        "            if a != i:\n",
        "                swich += 1\n",
        "            item[i],item[a] = item[a],item[i]\n",
        "        print(f\"比較回数 = {looktime}, 入れ換え回数 = {swich}\")\n",
        "        return item\n",
        "def main():\n",
        "  item_list = ItemList()\n",
        "  while True:\n",
        "    n = input(\"ファイルの中のデータ数を教えて（8or288or2240)\")\n",
        "    if n  in [\"8\" , \"288\" ,\"2240\"]:\n",
        "     item_list.csvreader(\"data_\"+str(n)+\".csv\")\n",
        "     sorteditem = item_list.highsc(item_list.item, len(item_list.item))\n",
        "     item_list.item = sorteditem\n",
        "     output_filename = \"outputno2_\"+str(n)+\".txt\"\n",
        "     print(f\"出力ファイル名: {output_filename}\")\n",
        "     item_list.outout(output_filename)\n",
        "     break\n",
        "    else:\n",
        "     print(\"8or288or2240のデータ数を入力してください\")\n",
        "\n",
        "main()"
      ],
      "metadata": {
        "colab": {
          "base_uri": "https://localhost:8080/"
        },
        "id": "KO4GxIddPKY7",
        "outputId": "b662c3ec-adbb-489f-cf98-222524fff761"
      },
      "execution_count": 1,
      "outputs": [
        {
          "output_type": "stream",
          "name": "stdout",
          "text": [
            "ファイルの中のデータ数を教えて（8or288or2240)4\n",
            "8or288or2240のデータ数を入力してください\n",
            "ファイルの中のデータ数を教えて（8or288or2240)8\n",
            "比較回数 = 21, 入れ換え回数 = 5\n",
            "出力ファイル名: outputno2_8.txt\n"
          ]
        }
      ]
    },
    {
      "cell_type": "code",
      "source": [
        "main()"
      ],
      "metadata": {
        "colab": {
          "base_uri": "https://localhost:8080/"
        },
        "id": "8-8C8A4xXbAV",
        "outputId": "be3d77fe-90a0-45f2-e6e3-b588e989e33f"
      },
      "execution_count": 2,
      "outputs": [
        {
          "output_type": "stream",
          "name": "stdout",
          "text": [
            "ファイルの中のデータ数を教えて（8or288or2240)288\n",
            "比較回数 = 41041, 入れ換え回数 = 282\n",
            "出力ファイル名: outputno2_288.txt\n"
          ]
        }
      ]
    },
    {
      "cell_type": "code",
      "source": [
        "main()"
      ],
      "metadata": {
        "id": "JwARmGKYXfIW",
        "outputId": "2994f86d-cf7c-4536-eda4-dcdd1beaf819",
        "colab": {
          "base_uri": "https://localhost:8080/"
        }
      },
      "execution_count": 3,
      "outputs": [
        {
          "output_type": "stream",
          "name": "stdout",
          "text": [
            "ファイルの中のデータ数を教えて（8or288or2240)78\n",
            "8or288or2240のデータ数を入力してください\n",
            "ファイルの中のデータ数を教えて（8or288or2240)2240\n",
            "比較回数 = 2505441, 入れ換え回数 = 2216\n",
            "出力ファイル名: outputno2_2240.txt\n"
          ]
        }
      ]
    }
  ]
}