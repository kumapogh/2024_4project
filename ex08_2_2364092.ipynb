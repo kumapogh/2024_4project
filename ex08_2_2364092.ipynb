{
  "nbformat": 4,
  "nbformat_minor": 0,
  "metadata": {
    "colab": {
      "provenance": []
    },
    "kernelspec": {
      "name": "python3",
      "display_name": "Python 3"
    },
    "language_info": {
      "name": "python"
    }
  },
  "cells": [
    {
      "cell_type": "code",
      "execution_count": null,
      "metadata": {
        "colab": {
          "base_uri": "https://localhost:8080/"
        },
        "id": "EdrnE5ef6Qf2",
        "outputId": "9585c669-e105-44ab-9bb5-4bb847137893"
      },
      "outputs": [
        {
          "output_type": "stream",
          "name": "stdout",
          "text": [
            "リストの中身：[0, 1, 4, -10]\n",
            "n:0\n",
            "f(n):1\n",
            "g(n):1\n",
            "n:1\n",
            "f(n):1\n",
            "g(n):2\n",
            "n:4\n",
            "f(n):28\n",
            "g(n):13\n",
            "n:-10\n",
            "f(n):1\n",
            "g(n):-9\n"
          ]
        }
      ],
      "source": [
        "def main():\n",
        " list4 =[0,1,4,-10]\n",
        " print(\"リストの中身：\"+ str(list4))\n",
        " for i in range(0,4):\n",
        "  n = list4[i]\n",
        "  print(\"n:\"+str(n))\n",
        "  print(\"f(n):\"+str(f(n)))\n",
        "  print(\"g(n):\"+str(g(n)))\n",
        "\n",
        "def f(n):\n",
        "  if n <= 1:\n",
        "    return 1\n",
        "  else:\n",
        "   return n *g(n-1)\n",
        "def g(n):\n",
        "  if n==0:\n",
        "   return 1\n",
        "  else:\n",
        "   return n+f(n-1)\n",
        "\n",
        "main()"
      ]
    }
  ]
}