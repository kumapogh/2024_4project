{
  "nbformat": 4,
  "nbformat_minor": 0,
  "metadata": {
    "colab": {
      "provenance": []
    },
    "kernelspec": {
      "name": "python3",
      "display_name": "Python 3"
    },
    "language_info": {
      "name": "python"
    }
  },
  "cells": [
    {
      "cell_type": "code",
      "execution_count": null,
      "metadata": {
        "colab": {
          "base_uri": "https://localhost:8080/"
        },
        "id": "sLZ9sCFjgx1Z",
        "outputId": "c3872dc7-bcb6-453c-90b5-e9b4cff8e5de"
      },
      "outputs": [
        {
          "output_type": "stream",
          "name": "stdout",
          "text": [
            "Input number:-1\n",
            "0.36787944\n"
          ]
        }
      ],
      "source": [
        "x = int( input (\"Input number:\"))\n",
        "if (x<0):\n",
        "   y = x\n",
        "   x = -x\n",
        "n = 1\n",
        "sa = 1\n",
        "ans = 1\n",
        "while sa > 0.0000001:\n",
        "   sa *= x / n\n",
        "   n += 1\n",
        "   ans += sa\n",
        "if (y<0) :\n",
        "  ans = 1 / ans\n",
        "  print(round(ans,8))\n",
        "else : print (round(ans,8))"
      ]
    },
    {
      "cell_type": "code",
      "source": [
        "x = int( input (\"Input number:\"))\n",
        "if (x<0):\n",
        "   y = x\n",
        "   x = -x\n",
        "else:\n",
        "  y=x\n",
        "n = 1\n",
        "sa = 1\n",
        "ans = 1\n",
        "while sa >= 0.0000001:\n",
        "   sa *= x / n\n",
        "   n += 1\n",
        "   ans += sa\n",
        "if (y<0) :\n",
        "  ans = 1 / ans\n",
        "  print(round(ans,8))\n",
        "else : print (round(ans,8))"
      ],
      "metadata": {
        "colab": {
          "base_uri": "https://localhost:8080/"
        },
        "id": "R6hnLRUi3Ozb",
        "outputId": "880b8e89-c6b0-4999-a27e-7e432f5c7c21"
      },
      "execution_count": null,
      "outputs": [
        {
          "output_type": "stream",
          "name": "stdout",
          "text": [
            "Input number:3\n",
            "20.08553691\n"
          ]
        }
      ]
    },
    {
      "cell_type": "code",
      "source": [
        "x = int( input (\"Input number:\"))\n",
        "if (x<0):\n",
        "   y = x\n",
        "   x = -x\n",
        "else:\n",
        "  y=x\n",
        "n = 1\n",
        "sa = 1\n",
        "ans = 1\n",
        "while sa >= 0.0000001:\n",
        "   sa *= x / n\n",
        "   n += 1\n",
        "   ans += sa\n",
        "if (y<0) :\n",
        "  ans = 1 / ans\n",
        "  print(round(ans,8))\n",
        "else : print (round(ans,8))"
      ],
      "metadata": {
        "colab": {
          "base_uri": "https://localhost:8080/"
        },
        "id": "XeHgOOVQ6x3u",
        "outputId": "4d082d10-fbcb-442e-906e-32ee64735147"
      },
      "execution_count": 7,
      "outputs": [
        {
          "output_type": "stream",
          "name": "stdout",
          "text": [
            "Input number:10\n",
            "22026.46579479\n"
          ]
        }
      ]
    }
  ]
}