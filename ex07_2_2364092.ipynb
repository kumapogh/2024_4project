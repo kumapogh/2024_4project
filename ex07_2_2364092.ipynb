{
  "nbformat": 4,
  "nbformat_minor": 0,
  "metadata": {
    "colab": {
      "provenance": []
    },
    "kernelspec": {
      "name": "python3",
      "display_name": "Python 3"
    },
    "language_info": {
      "name": "python"
    }
  },
  "cells": [
    {
      "cell_type": "code",
      "execution_count": 15,
      "metadata": {
        "colab": {
          "base_uri": "https://localhost:8080/"
        },
        "id": "TikiD_oKoiFS",
        "outputId": "04f84ee5-5855-40d0-96b8-b0388bdba591"
      },
      "outputs": [
        {
          "output_type": "stream",
          "name": "stdout",
          "text": [
            "比較回数=18 入れ替え回数=6\n",
            "出力ファイル名：output_8.txt\n"
          ]
        }
      ],
      "source": [
        "import csv           #csvファイルを用いるための設定\n",
        "looktime = 0\n",
        "swich = 0\n",
        "\n",
        "class Item:          #クラス、Itemの定義\n",
        "  def __init__ (self, number:int, name:str, score:int):#クラスの設定\n",
        "   self.number = number       #生徒番号の設定\n",
        "   self.name = name           #名前の設定\n",
        "   self.score = score         #成績の設定\n",
        "\n",
        "def aditem(item_list,number:int,name:str,score:int):#クラスに要素追加関数\n",
        "  item_list.append(Item(number,name,score))\n",
        "\n",
        "def csvreader(filename:str, item_list):\n",
        "  with open(filename,'r') as f:\n",
        "    csvr = csv.reader(f)\n",
        "    next(csvr)\n",
        "    for row in csvr:\n",
        "      number = int(row[0])\n",
        "      name = str(row[1])\n",
        "      score = int(row[2])\n",
        "      aditem(item_list, number, name, score)\n",
        "\n",
        "def outout(item_list,newfile):\n",
        "  global looktime,swich\n",
        "  looktime = 0\n",
        "  swich = 0\n",
        "  alist = quicksort(item_list,0, len(item_list)-1)\n",
        "  f = open(newfile,\"w\")\n",
        "  quicksort(item_list,0, len(item_list)-1)\n",
        "  print(\"比較回数=\"+str(looktime),\"入れ替え回数=\"+str(swich))\n",
        "  for item in alist:\n",
        "    f.write(f\"{item.number:4},{item.name:16},{item.score}\\n\")\n",
        "  print(\"出力ファイル名：\"+str(newfile))\n",
        "\n",
        "def quicksort(a:list, left:int,right:int):\n",
        "    global looktime,swich\n",
        "    if left < right:\n",
        "        i, j = left, right\n",
        "        x = a[(left + right) // 2].score\n",
        "        while True:\n",
        "            while(a[i].score < x):\n",
        "                looktime += 1\n",
        "                i += 1\n",
        "            while(x < a[j].score):\n",
        "                looktime += 1\n",
        "                j -= 1\n",
        "            if (i <= j):\n",
        "                if i < j:\n",
        "                    swich += 1\n",
        "                    a[i], a[j] = a[j], a[i]\n",
        "                i += 1\n",
        "                j -= 1\n",
        "            if i > j:\n",
        "                break\n",
        "        if left < j:\n",
        "            quicksort(a, left, j)\n",
        "        if i < right:\n",
        "            quicksort(a , i, right)\n",
        "        return a\n",
        "item_list = []\n",
        "csvreader('data_8.csv', item_list)\n",
        "outout(item_list,\"output_8.txt\")\n"
      ]
    },
    {
      "cell_type": "code",
      "source": [
        "item_list = []\n",
        "csvreader('data_288.csv', item_list)\n",
        "outout(item_list,\"output_288.txt\")"
      ],
      "metadata": {
        "colab": {
          "base_uri": "https://localhost:8080/"
        },
        "id": "kOdX0BAepPXr",
        "outputId": "5e6473be-fe50-400a-a689-7ca36e2e48e3"
      },
      "execution_count": 17,
      "outputs": [
        {
          "output_type": "stream",
          "name": "stdout",
          "text": [
            "比較回数=3074 入れ替え回数=818\n",
            "出力ファイル名：output_288.txt\n"
          ]
        }
      ]
    },
    {
      "cell_type": "code",
      "source": [
        "item_list = []\n",
        "csvreader('data_2240.csv', item_list)\n",
        "outout(item_list,\"output_2240.txt\")"
      ],
      "metadata": {
        "colab": {
          "base_uri": "https://localhost:8080/"
        },
        "id": "FzuZzsEVpP12",
        "outputId": "fbe3e6c3-c1b8-4a79-ac7d-ce0744b3b62e"
      },
      "execution_count": 18,
      "outputs": [
        {
          "output_type": "stream",
          "name": "stdout",
          "text": [
            "比較回数=27147 入れ替え回数=11494\n",
            "出力ファイル名：output_2240.txt\n"
          ]
        }
      ]
    }
  ]
}